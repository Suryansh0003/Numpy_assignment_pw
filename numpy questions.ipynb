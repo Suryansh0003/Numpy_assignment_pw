{
 "cells": [
  {
   "cell_type": "code",
   "execution_count": 1,
   "id": "74511acb-2f49-4561-a6b2-11e736390ebf",
   "metadata": {},
   "outputs": [],
   "source": [
    "import numpy as np"
   ]
  },
  {
   "cell_type": "markdown",
   "id": "59679135-a786-4d76-a558-1a6d6475d8d4",
   "metadata": {},
   "source": [
    "### Q.NO.1"
   ]
  },
  {
   "cell_type": "raw",
   "id": "25c20fe0-87af-4733-8c73-ba22dd2e3c92",
   "metadata": {},
   "source": [
    "Create a NumPy array 'arr' of integers from 0 to 5 and print its data type"
   ]
  },
  {
   "cell_type": "code",
   "execution_count": 2,
   "id": "d3ac1ec5-0171-431b-909d-d41f0e5e9e61",
   "metadata": {},
   "outputs": [
    {
     "data": {
      "text/plain": [
       "array([0, 1, 2, 3, 4, 5])"
      ]
     },
     "execution_count": 2,
     "metadata": {},
     "output_type": "execute_result"
    }
   ],
   "source": [
    "arr = np.array([ 0 , 1 , 2 , 3 , 4 , 5 ])\n",
    "arr"
   ]
  },
  {
   "cell_type": "code",
   "execution_count": 3,
   "id": "a519b0b8-35d5-4c5b-870a-39dfce4b9805",
   "metadata": {},
   "outputs": [
    {
     "data": {
      "text/plain": [
       "dtype('int64')"
      ]
     },
     "execution_count": 3,
     "metadata": {},
     "output_type": "execute_result"
    }
   ],
   "source": [
    "arr.dtype"
   ]
  },
  {
   "cell_type": "markdown",
   "id": "b3cd67b2-0622-4179-aa13-ab3a52bdd973",
   "metadata": {},
   "source": [
    "### Q.NO.2"
   ]
  },
  {
   "cell_type": "raw",
   "id": "07fa29c0-98c3-445c-858f-2f9e86ca6eb8",
   "metadata": {},
   "source": [
    "Given a NumPy array 'arr' , check if its data type is float64."
   ]
  },
  {
   "cell_type": "code",
   "execution_count": 4,
   "id": "475221f9-2c65-4fbd-9ee5-8383d5c1206a",
   "metadata": {},
   "outputs": [
    {
     "data": {
      "text/plain": [
       "array([1.5, 2.6, 3.7])"
      ]
     },
     "execution_count": 4,
     "metadata": {},
     "output_type": "execute_result"
    }
   ],
   "source": [
    "arr = np.array([1.5 , 2.6 ,3.7])\n",
    "arr"
   ]
  },
  {
   "cell_type": "code",
   "execution_count": 5,
   "id": "b518efc2-4de6-4c85-ba1d-0f0bf055f160",
   "metadata": {},
   "outputs": [
    {
     "data": {
      "text/plain": [
       "dtype('float64')"
      ]
     },
     "execution_count": 5,
     "metadata": {},
     "output_type": "execute_result"
    }
   ],
   "source": [
    "arr.dtype  ## yes the data type of arr is float 64"
   ]
  },
  {
   "cell_type": "markdown",
   "id": "db7a8793-aa1b-413f-96ff-fd03d179e533",
   "metadata": {},
   "source": [
    "### Q.NO. 3"
   ]
  },
  {
   "cell_type": "raw",
   "id": "6ffa4a86-7540-4a12-8784-08f25b661822",
   "metadata": {},
   "source": [
    "Create a NumPy array 'arr' with a datatype of complex128 containing three complex numbers"
   ]
  },
  {
   "cell_type": "code",
   "execution_count": 6,
   "id": "bc7cf695-b1db-4784-8b8a-716ddf0e1b82",
   "metadata": {},
   "outputs": [
    {
     "data": {
      "text/plain": [
       "array([12.+0.j, 56.+0.j, 87.+0.j])"
      ]
     },
     "execution_count": 6,
     "metadata": {},
     "output_type": "execute_result"
    }
   ],
   "source": [
    "arr = np.array([ 12 , 56 , 87 ] , dtype = np.complex128)\n",
    "arr"
   ]
  },
  {
   "cell_type": "code",
   "execution_count": 7,
   "id": "7b9e6d86-6820-40b3-8972-a2a71d7f6d84",
   "metadata": {},
   "outputs": [
    {
     "data": {
      "text/plain": [
       "dtype('complex128')"
      ]
     },
     "execution_count": 7,
     "metadata": {},
     "output_type": "execute_result"
    }
   ],
   "source": [
    "arr.dtype"
   ]
  },
  {
   "cell_type": "markdown",
   "id": "a4c34734-14ac-4860-bd3d-72aa5052ca94",
   "metadata": {},
   "source": [
    "### Q.NO.4"
   ]
  },
  {
   "cell_type": "raw",
   "id": "c4f81e6c-1f4e-4f42-b156-4c913f161de3",
   "metadata": {},
   "source": [
    "Convert an existing NumPy array 'arr' of integers to float32 data type"
   ]
  },
  {
   "cell_type": "code",
   "execution_count": 8,
   "id": "a34a4502-cbb3-4be8-90c6-7b4ce54e9a4c",
   "metadata": {},
   "outputs": [
    {
     "data": {
      "text/plain": [
       "array([45,  9, 85,  9,  6,  5,  2])"
      ]
     },
     "execution_count": 8,
     "metadata": {},
     "output_type": "execute_result"
    }
   ],
   "source": [
    "arr = np.array([45 , 9 , 85 , 9 , 6 , 5 , 2 ])\n",
    "arr"
   ]
  },
  {
   "cell_type": "code",
   "execution_count": 9,
   "id": "7dafe1d8-f192-4e02-a4e9-b77029134137",
   "metadata": {},
   "outputs": [
    {
     "data": {
      "text/plain": [
       "dtype('int64')"
      ]
     },
     "execution_count": 9,
     "metadata": {},
     "output_type": "execute_result"
    }
   ],
   "source": [
    "arr.dtype"
   ]
  },
  {
   "cell_type": "code",
   "execution_count": 10,
   "id": "2607e386-7b49-4aa2-9f8e-179dcba800bd",
   "metadata": {},
   "outputs": [
    {
     "data": {
      "text/plain": [
       "array([45.,  9., 85.,  9.,  6.,  5.,  2.], dtype=float32)"
      ]
     },
     "execution_count": 10,
     "metadata": {},
     "output_type": "execute_result"
    }
   ],
   "source": [
    "arr1 = arr.astype('float32')\n",
    "arr1"
   ]
  },
  {
   "cell_type": "markdown",
   "id": "ec2b8a7e-140a-496c-a0c5-de7eb15afad7",
   "metadata": {},
   "source": [
    "### Q.NO.5"
   ]
  },
  {
   "cell_type": "raw",
   "id": "6de6483b-c48b-4c6b-8729-2c34c55a12b0",
   "metadata": {},
   "source": [
    "Given a NumPy array 'arr' with float64 datatype , convert it to float32 to reduce decimal precision."
   ]
  },
  {
   "cell_type": "code",
   "execution_count": 11,
   "id": "93c73cb1-9fbf-4b3d-b3d8-8bc0f487ec6e",
   "metadata": {},
   "outputs": [
    {
     "data": {
      "text/plain": [
       "array([1.23456789, 2.3456789 , 3.456789  , 4.56789   ])"
      ]
     },
     "execution_count": 11,
     "metadata": {},
     "output_type": "execute_result"
    }
   ],
   "source": [
    "arr = np.array([ 1.23456789, 2.3456789, 3.456789, 4.56789 ] ,dtype = np.float64)\n",
    "arr"
   ]
  },
  {
   "cell_type": "code",
   "execution_count": 12,
   "id": "70fb4f91-3c6f-4474-b7b2-f83afede8c7c",
   "metadata": {},
   "outputs": [
    {
     "data": {
      "text/plain": [
       "array([1.2345679, 2.3456788, 3.456789 , 4.56789  ], dtype=float32)"
      ]
     },
     "execution_count": 12,
     "metadata": {},
     "output_type": "execute_result"
    }
   ],
   "source": [
    "arr1 = arr.astype('float32')\n",
    "arr1"
   ]
  },
  {
   "cell_type": "markdown",
   "id": "6498b052-924f-4c6f-92bc-122ea9af5fff",
   "metadata": {},
   "source": [
    "### Q.NO.6"
   ]
  },
  {
   "cell_type": "raw",
   "id": "d4703034-e633-4199-a4e6-3cdb03674ae8",
   "metadata": {},
   "source": [
    "Write a function array_attributes that takes a NumPy array as input and returns its shape,size and data type."
   ]
  },
  {
   "cell_type": "code",
   "execution_count": 13,
   "id": "47130cbf-640c-41d3-83b1-d9e0750ce6d3",
   "metadata": {},
   "outputs": [
    {
     "data": {
      "text/plain": [
       "array([ 1,  2, 34, 56,  7, 88, 45])"
      ]
     },
     "execution_count": 13,
     "metadata": {},
     "output_type": "execute_result"
    }
   ],
   "source": [
    "arr = np.array([1,2,34,56,7,88,45])\n",
    "arr"
   ]
  },
  {
   "cell_type": "code",
   "execution_count": 14,
   "id": "93187e99-a189-4e3e-8de4-79ad2ab6adef",
   "metadata": {},
   "outputs": [
    {
     "data": {
      "text/plain": [
       "(dtype('int64'), (7,), 7)"
      ]
     },
     "execution_count": 14,
     "metadata": {},
     "output_type": "execute_result"
    }
   ],
   "source": [
    "def array_attributes(arr):\n",
    "    dt = arr.dtype\n",
    "    sh = np.shape(arr)\n",
    "    size = np.size(arr)\n",
    "    \n",
    "    return dt,sh,size\n",
    "\n",
    "array_attributes(arr)"
   ]
  },
  {
   "cell_type": "markdown",
   "id": "4b3ca123-32a5-4a4c-b12c-9c522601c157",
   "metadata": {},
   "source": [
    "### Q.NO.7"
   ]
  },
  {
   "cell_type": "raw",
   "id": "1df9310c-d499-47a3-bfd3-54c1550dd0cf",
   "metadata": {},
   "source": [
    "Create a function array_dimension that takes a NumPy array as input and returns itsdimensionality."
   ]
  },
  {
   "cell_type": "code",
   "execution_count": 15,
   "id": "1b9d89df-b2a6-4698-86a7-47e03e69cbf4",
   "metadata": {},
   "outputs": [
    {
     "data": {
      "text/plain": [
       "array([ 1, 54, 67, 89, 32])"
      ]
     },
     "execution_count": 15,
     "metadata": {},
     "output_type": "execute_result"
    }
   ],
   "source": [
    "arr = np.array([1 , 54 , 67 , 89 , 32 ])\n",
    "arr"
   ]
  },
  {
   "cell_type": "code",
   "execution_count": 16,
   "id": "092aadfe-a11a-42d6-9021-3ce03be5aa00",
   "metadata": {},
   "outputs": [
    {
     "data": {
      "text/plain": [
       "1"
      ]
     },
     "execution_count": 16,
     "metadata": {},
     "output_type": "execute_result"
    }
   ],
   "source": [
    "def array_dimension(arr):\n",
    "\n",
    "    return np.ndim(arr)\n",
    "array_dimension(arr)"
   ]
  },
  {
   "cell_type": "markdown",
   "id": "d72a8914-3a5f-4959-b39c-2c10141d5902",
   "metadata": {},
   "source": [
    "### Q.No.8"
   ]
  },
  {
   "cell_type": "raw",
   "id": "3cd4738a-ede3-48a5-b526-44fc031cfb9f",
   "metadata": {},
   "source": [
    "Design a function item_size_info that takes a NumPy array as input and returns the item size and the total size in bytes"
   ]
  },
  {
   "cell_type": "code",
   "execution_count": 17,
   "id": "1c7b2569-0365-4857-bed7-2093cb94b81c",
   "metadata": {},
   "outputs": [
    {
     "data": {
      "text/plain": [
       "array(['pw', 'skills', 'data', 'science'], dtype='<U7')"
      ]
     },
     "execution_count": 17,
     "metadata": {},
     "output_type": "execute_result"
    }
   ],
   "source": [
    "arr = np.array(['pw' , 'skills' , 'data' , 'science'])\n",
    "arr"
   ]
  },
  {
   "cell_type": "code",
   "execution_count": 18,
   "id": "6a850b55-bbe5-46d8-81d9-45afc9c1d620",
   "metadata": {},
   "outputs": [
    {
     "name": "stdout",
     "output_type": "stream",
     "text": [
      "item size :  28\n",
      "total size :  112\n"
     ]
    }
   ],
   "source": [
    "def item_size_info(arr):\n",
    "\n",
    "    print(\"item size : \" , arr.itemsize)  ## here we get the item size of array\n",
    "    print(\"total size : \" , arr.nbytes)\n",
    "\n",
    "item_size_info(arr)"
   ]
  },
  {
   "cell_type": "markdown",
   "id": "03c72ab7-aad2-4bf7-95ae-53f2d1c4ebfc",
   "metadata": {},
   "source": [
    "### Q.NO.9"
   ]
  },
  {
   "cell_type": "raw",
   "id": "f3655808-7252-414c-8df7-f59fef9b7906",
   "metadata": {},
   "source": [
    "Create a function array_strides that takes a NumPy array as input and returns the strides of the array."
   ]
  },
  {
   "cell_type": "code",
   "execution_count": 19,
   "id": "9458bb49-5abf-4b0a-b93c-3d1d301e5ee3",
   "metadata": {},
   "outputs": [
    {
     "data": {
      "text/plain": [
       "(24, 8)"
      ]
     },
     "execution_count": 19,
     "metadata": {},
     "output_type": "execute_result"
    }
   ],
   "source": [
    "\n",
    "def array_strides(arr):\n",
    "    return arr.strides\n",
    "\n",
    "arr = np.array([[1, 2, 3], [4, 5, 6]])\n",
    "array_strides(arr)"
   ]
  },
  {
   "cell_type": "code",
   "execution_count": 20,
   "id": "a4f33f50-affe-4339-8d56-60ef6cec8479",
   "metadata": {},
   "outputs": [
    {
     "data": {
      "text/plain": [
       "array([[1, 2, 3],\n",
       "       [4, 5, 6]])"
      ]
     },
     "execution_count": 20,
     "metadata": {},
     "output_type": "execute_result"
    }
   ],
   "source": [
    "## alter method\n",
    "array_strides = np.array([[1, 2, 3], [4, 5, 6]])\n",
    "array_strides"
   ]
  },
  {
   "cell_type": "code",
   "execution_count": 21,
   "id": "57c0a5f9-652a-429d-a2e5-42fb9341a5dd",
   "metadata": {},
   "outputs": [
    {
     "data": {
      "text/plain": [
       "(24, 8)"
      ]
     },
     "execution_count": 21,
     "metadata": {},
     "output_type": "execute_result"
    }
   ],
   "source": [
    "array_strides.strides   ##here 24 represent that each row consists of 24 bytes \n",
    "## 8 represents the number of bytes to move from one column to another in the same row\n",
    "\n"
   ]
  },
  {
   "cell_type": "markdown",
   "id": "8930e1f4-a6d7-470d-b5d4-12838facebf4",
   "metadata": {},
   "source": [
    "### Q.NO 10"
   ]
  },
  {
   "cell_type": "raw",
   "id": "551658d3-ae4f-45dd-a628-3b054a3d5fdd",
   "metadata": {},
   "source": [
    "Design a function shape_stride_relationship  that takes a NumPy array as input and returns the shape and strudes of the array."
   ]
  },
  {
   "cell_type": "code",
   "execution_count": 22,
   "id": "4e992356-b81e-434a-b562-530a02a88432",
   "metadata": {},
   "outputs": [
    {
     "data": {
      "text/plain": [
       "array([[1, 2, 3, 7],\n",
       "       [4, 5, 6, 8]])"
      ]
     },
     "execution_count": 22,
     "metadata": {},
     "output_type": "execute_result"
    }
   ],
   "source": [
    "shape_stride_relationship = np.array([[1, 2, 3, 7], [4, 5, 6 , 8]])\n",
    "shape_stride_relationship"
   ]
  },
  {
   "cell_type": "code",
   "execution_count": 23,
   "id": "ff4280b1-f012-4dcc-b475-7c934bf1e3d8",
   "metadata": {},
   "outputs": [
    {
     "data": {
      "text/plain": [
       "(2, 4)"
      ]
     },
     "execution_count": 23,
     "metadata": {},
     "output_type": "execute_result"
    }
   ],
   "source": [
    "shape_stride_relationship.shape"
   ]
  },
  {
   "cell_type": "code",
   "execution_count": 24,
   "id": "34b01350-2d00-481d-9fc2-c0e5fb53b4a5",
   "metadata": {},
   "outputs": [
    {
     "data": {
      "text/plain": [
       "(32, 8)"
      ]
     },
     "execution_count": 24,
     "metadata": {},
     "output_type": "execute_result"
    }
   ],
   "source": [
    "shape_stride_relationship.strides"
   ]
  },
  {
   "cell_type": "code",
   "execution_count": 25,
   "id": "283e11f2-e9fa-4825-9dc4-611b98b6dd27",
   "metadata": {},
   "outputs": [
    {
     "data": {
      "text/plain": [
       "((32, 8), (2, 4))"
      ]
     },
     "execution_count": 25,
     "metadata": {},
     "output_type": "execute_result"
    }
   ],
   "source": [
    "## altermethod\n",
    "\n",
    "def shape_stride_relationship(a):\n",
    "    a = np.array([[1, 2, 3, 7], [4, 5, 6 , 8]])\n",
    "    stride = a.strides\n",
    "    shape = a.shape\n",
    "    \n",
    "    return stride , shape\n",
    "a = np.array([[1, 2, 3, 7], [4, 5, 6 , 8]])\n",
    "shape_stride_relationship(a)"
   ]
  },
  {
   "cell_type": "markdown",
   "id": "d009b0c6-c25e-433d-a639-0672b19124c8",
   "metadata": {},
   "source": [
    "### Q.NO.11 "
   ]
  },
  {
   "cell_type": "raw",
   "id": "062cf033-8537-4b4e-9aa2-c3a0d5b165c7",
   "metadata": {},
   "source": [
    "Create a function 'create_zeroes_array' that takes an integer 'n' as input and returns a NumPy array of zeros with 'n' elements."
   ]
  },
  {
   "cell_type": "code",
   "execution_count": 26,
   "id": "414fad92-8606-4827-9ee7-d1c39ee037e8",
   "metadata": {},
   "outputs": [
    {
     "data": {
      "text/plain": [
       "array([0., 0., 0., 0.])"
      ]
     },
     "execution_count": 26,
     "metadata": {},
     "output_type": "execute_result"
    }
   ],
   "source": [
    "create_zeroes_array = np.zeros(4)\n",
    "create_zeroes_array "
   ]
  },
  {
   "cell_type": "code",
   "execution_count": 28,
   "id": "22aedf81-9c5b-4c9e-b7bf-86e2f7aed620",
   "metadata": {},
   "outputs": [
    {
     "name": "stdin",
     "output_type": "stream",
     "text": [
      "enter the integer value:  4\n"
     ]
    },
    {
     "data": {
      "text/plain": [
       "array([0., 0., 0., 0.])"
      ]
     },
     "execution_count": 28,
     "metadata": {},
     "output_type": "execute_result"
    }
   ],
   "source": [
    "## otherway\n",
    "\n",
    "def create_zeroes_array(n):\n",
    "    return np.zeros(n)\n",
    "\n",
    "\n",
    "n = int(input(\"enter the integer value: \"))\n",
    "\n",
    "create_zeroes_array(n)"
   ]
  },
  {
   "cell_type": "markdown",
   "id": "d83dafd3-9085-48a8-81b4-04666e1d51c9",
   "metadata": {},
   "source": [
    "### Q.NO.12"
   ]
  },
  {
   "cell_type": "raw",
   "id": "1cfb18d3-92a2-4443-b508-f31df944eeed",
   "metadata": {},
   "source": [
    "Write a function 'create_ones_matrix ' that takes integers 'rows' and 'cols' as input and generate a 2D NumPy array filled with ones of size 'rows x cols' ."
   ]
  },
  {
   "cell_type": "code",
   "execution_count": 29,
   "id": "094766d4-595d-46e0-8cdb-24f54d5ca2d9",
   "metadata": {},
   "outputs": [
    {
     "data": {
      "text/plain": [
       "array([[1., 1., 1., 1.],\n",
       "       [1., 1., 1., 1.],\n",
       "       [1., 1., 1., 1.]])"
      ]
     },
     "execution_count": 29,
     "metadata": {},
     "output_type": "execute_result"
    }
   ],
   "source": [
    "create_ones_matrix = np.ones((3,4))\n",
    "create_ones_matrix"
   ]
  },
  {
   "cell_type": "code",
   "execution_count": 30,
   "id": "8ad95e4b-7c83-43a6-bf4a-6bce7ccad1f5",
   "metadata": {},
   "outputs": [
    {
     "name": "stdin",
     "output_type": "stream",
     "text": [
      "please enter the integer value of rows : 4\n",
      "please enter the integer value of columns:  4\n"
     ]
    },
    {
     "data": {
      "text/plain": [
       "array([[1., 1., 1., 1.],\n",
       "       [1., 1., 1., 1.],\n",
       "       [1., 1., 1., 1.],\n",
       "       [1., 1., 1., 1.]])"
      ]
     },
     "execution_count": 30,
     "metadata": {},
     "output_type": "execute_result"
    }
   ],
   "source": [
    "## alter method\n",
    "\n",
    "def create_ones_matrix(arr):\n",
    "    arr = np.ones ((rows ,columns))\n",
    "    return arr\n",
    "        \n",
    "rows = int(input(\"please enter the integer value of rows :\"))\n",
    "columns = int(input(\"please enter the integer value of columns: \"))\n",
    "\n",
    "create_ones_matrix(arr)"
   ]
  },
  {
   "cell_type": "markdown",
   "id": "3b2f9a11-738c-4155-a512-6d89dbe2c148",
   "metadata": {},
   "source": [
    "### Q.NO.13"
   ]
  },
  {
   "cell_type": "raw",
   "id": "c21bb260-6c47-4e53-939c-a0471ff66772",
   "metadata": {},
   "source": [
    "Write a function generate_range_array that takes three integers start , stop , step as arguments and creates a NumPy array with a range starting from 'start' ,ending at stop(exclusive) , and with the specified 'step'"
   ]
  },
  {
   "cell_type": "code",
   "execution_count": 31,
   "id": "c6905a5e-cc48-4ea3-9a5e-e894b9e32532",
   "metadata": {},
   "outputs": [
    {
     "data": {
      "text/plain": [
       "array([ 0,  2,  4,  6,  8, 10, 12, 14, 16, 18])"
      ]
     },
     "execution_count": 31,
     "metadata": {},
     "output_type": "execute_result"
    }
   ],
   "source": [
    "def generate_range_array(a,b,c):\n",
    "    return np.arange(a,b,c)\n",
    "    \n",
    "\n",
    "a = 0      ## start \n",
    "b = 20     ## stop(exclusive)\n",
    "c = 2      ## step\n",
    "\n",
    "generate_range_array(a,b,c)"
   ]
  },
  {
   "cell_type": "code",
   "execution_count": 32,
   "id": "2e6121bb-62ac-47ff-b568-383b00727940",
   "metadata": {},
   "outputs": [
    {
     "data": {
      "text/plain": [
       "array([ 0,  2,  4,  6,  8, 10, 12, 14, 16, 18])"
      ]
     },
     "execution_count": 32,
     "metadata": {},
     "output_type": "execute_result"
    }
   ],
   "source": [
    "## alter method\n",
    "\n",
    "np.arange(0,20,2)"
   ]
  },
  {
   "cell_type": "markdown",
   "id": "530ed588-8e46-44ae-8f1c-55697fd24a61",
   "metadata": {},
   "source": [
    "### Q.NO.14"
   ]
  },
  {
   "cell_type": "raw",
   "id": "a08d35c5-3a57-4da9-a8cf-442bc0cdd3cd",
   "metadata": {},
   "source": [
    "Design a function generate_linear_space that takes two floats 'start' ,'stop' and an integer 'num' as arguments and generates a NumPy array with num equally spaced values between 'start' and 'stop'(inclusive)."
   ]
  },
  {
   "cell_type": "code",
   "execution_count": 33,
   "id": "e7f2fdc2-3c09-471c-b0fa-bb3e694579e8",
   "metadata": {},
   "outputs": [
    {
     "data": {
      "text/plain": [
       "array([1.5, 2.5, 3.5, 4.5, 5.5, 6.5, 7.5, 8.5, 9.5])"
      ]
     },
     "execution_count": 33,
     "metadata": {},
     "output_type": "execute_result"
    }
   ],
   "source": [
    "def generate_linear_space( start , stop , num):\n",
    "    return np.arange(start , stop+num , num)\n",
    "\n",
    "start = 1.5\n",
    "stop = 9.5\n",
    "num = 1\n",
    "\n",
    "generate_linear_space( start , stop , num)\n"
   ]
  },
  {
   "cell_type": "markdown",
   "id": "60b7c05f-96e4-42d5-a059-c9689550b147",
   "metadata": {},
   "source": [
    "### Q.NO.15"
   ]
  },
  {
   "cell_type": "raw",
   "id": "b605dfd9-bfd2-4921-8b98-b713a6941fd9",
   "metadata": {},
   "source": [
    "Create a function 'create_identity_matrix' that takes an integer 'n' as input and generates a square identity matrix of size 'n x n' using 'numpy.eye'"
   ]
  },
  {
   "cell_type": "code",
   "execution_count": 34,
   "id": "e7e34b80-38f3-434d-89dd-f328fe9af7c1",
   "metadata": {},
   "outputs": [
    {
     "name": "stdin",
     "output_type": "stream",
     "text": [
      "Enter the integer value: 4\n"
     ]
    },
    {
     "data": {
      "text/plain": [
       "array([[1., 0., 0., 0.],\n",
       "       [0., 1., 0., 0.],\n",
       "       [0., 0., 1., 0.],\n",
       "       [0., 0., 0., 1.]])"
      ]
     },
     "execution_count": 34,
     "metadata": {},
     "output_type": "execute_result"
    }
   ],
   "source": [
    "def create_identity_matrix(n):\n",
    "    return np.eye((n))\n",
    "\n",
    "n= int(input(\"Enter the integer value:\"))\n",
    "\n",
    "create_identity_matrix(n)"
   ]
  },
  {
   "cell_type": "markdown",
   "id": "3c13d37e-8265-40e0-9d9f-c93fa6bc05cf",
   "metadata": {},
   "source": [
    "### Q.NO.16"
   ]
  },
  {
   "cell_type": "raw",
   "id": "f9dd6db5-7662-4eec-bc85-99a02bd6eea6",
   "metadata": {},
   "source": [
    "Write a function that takes a Python list and converts it into a Numpy array."
   ]
  },
  {
   "cell_type": "code",
   "execution_count": 35,
   "id": "cb11d8b9-bdee-42f4-8412-2a78f136d8e1",
   "metadata": {},
   "outputs": [
    {
     "data": {
      "text/plain": [
       "array([12, 44, 67, 43,  6,  7])"
      ]
     },
     "execution_count": 35,
     "metadata": {},
     "output_type": "execute_result"
    }
   ],
   "source": [
    "def py_np(list1):\n",
    "    return np.asarray(list1)\n",
    "\n",
    "list1 = [ 12 , 44 , 67 , 43 , 6 , 7 ]\n",
    "\n",
    "py_np(list1)"
   ]
  },
  {
   "cell_type": "markdown",
   "id": "584690eb-0494-4452-96e5-591f850b1379",
   "metadata": {},
   "source": [
    "### Q.NO.17"
   ]
  },
  {
   "cell_type": "raw",
   "id": "4444cb80-ba7a-4716-86ea-228d73d9ed03",
   "metadata": {},
   "source": [
    "Create a NumPy array and demonstrate the use of •numpy.view• to create a new array object with the same data."
   ]
  },
  {
   "cell_type": "code",
   "execution_count": 36,
   "id": "1602104e-87eb-488a-9ad6-e6a5cb1da7e4",
   "metadata": {},
   "outputs": [
    {
     "data": {
      "text/plain": [
       "array([23, 56, 78, 54, 32])"
      ]
     },
     "execution_count": 36,
     "metadata": {},
     "output_type": "execute_result"
    }
   ],
   "source": [
    "arr = np.array([ 23 , 56 , 78 , 54 , 32 ])\n",
    "arr"
   ]
  },
  {
   "cell_type": "code",
   "execution_count": 98,
   "id": "e2520faf-88c0-402d-80ff-813d53d5d8a9",
   "metadata": {},
   "outputs": [
    {
     "data": {
      "text/plain": [
       "array([23,  0, 56,  0, 78,  0, 54,  0, 32,  0], dtype=int32)"
      ]
     },
     "execution_count": 98,
     "metadata": {},
     "output_type": "execute_result"
    }
   ],
   "source": [
    "new_arr = arr.view(dtype = np.int32)\n",
    "new_arr"
   ]
  },
  {
   "cell_type": "markdown",
   "id": "334f98d9-1074-41a2-aba9-cfecb7b5aa4d",
   "metadata": {},
   "source": [
    "### Q.NO.18"
   ]
  },
  {
   "cell_type": "raw",
   "id": "0349b8ef-228e-4793-8863-1ccc3b6ebf28",
   "metadata": {},
   "source": [
    "Write a function that takes two NumPy arrays and concatenates them along a specified axis."
   ]
  },
  {
   "cell_type": "code",
   "execution_count": 37,
   "id": "b7e64c8d-3370-4183-8a84-ae74ba7c8864",
   "metadata": {},
   "outputs": [
    {
     "data": {
      "text/plain": [
       "array(['hello', 'world', 'good', 'work', 'done', 'excellent'], dtype='<U9')"
      ]
     },
     "execution_count": 37,
     "metadata": {},
     "output_type": "execute_result"
    }
   ],
   "source": [
    "def concat(arr1 , arr2 ):\n",
    "    return np.concatenate((arr1 ,arr2) , axis = 0)\n",
    "\n",
    "arr1 = np.array(['hello' , 'world' , 'good' ])\n",
    "arr2 = np.array(['work' , 'done' , 'excellent'])\n",
    "\n",
    "concat(arr1 , arr2)"
   ]
  },
  {
   "cell_type": "markdown",
   "id": "aed2a0ba-1e04-4037-aa39-cdb287b3cdf5",
   "metadata": {},
   "source": [
    "### Q.NO. 19"
   ]
  },
  {
   "cell_type": "raw",
   "id": "35f611ef-06e5-4a53-a4b4-83afd99b59c0",
   "metadata": {},
   "source": [
    "Create two NumPy arrays with different shapes and concatenate them horizontally using •numpy. concatenate•."
   ]
  },
  {
   "cell_type": "code",
   "execution_count": 38,
   "id": "72d350da-d930-4931-b23a-2a3ab86747f7",
   "metadata": {},
   "outputs": [
    {
     "data": {
      "text/plain": [
       "array([[ 1,  2, 34, 21,  1],\n",
       "       [ 2,  5,  7,  9,  5],\n",
       "       [ 5,  7,  3,  6,  3]])"
      ]
     },
     "execution_count": 38,
     "metadata": {},
     "output_type": "execute_result"
    }
   ],
   "source": [
    "arr1 = np.array([[1,2,34,21],[2,5,7,9],[5,7,3,6]])\n",
    "arr2 = np.array([[1],\n",
    "                 [5],\n",
    "                 [3]])\n",
    "                \n",
    "np.concatenate((arr1 , arr2 ), axis =1)\n",
    "                "
   ]
  },
  {
   "cell_type": "markdown",
   "id": "2ab1ca9e-76dd-4c35-9e8f-b1f51530642b",
   "metadata": {},
   "source": [
    "### Q.NO.20"
   ]
  },
  {
   "cell_type": "raw",
   "id": "d8ec9ffd-bca6-41ae-ac44-0eb77cec5bc6",
   "metadata": {},
   "source": [
    "Write a function that vertically stacks multiple NumPy arrays given as a list."
   ]
  },
  {
   "cell_type": "code",
   "execution_count": 39,
   "id": "8d69424f-0e61-4e74-9b8b-48384a0df902",
   "metadata": {},
   "outputs": [
    {
     "data": {
      "text/plain": [
       "array([[ 1,  2,  3,  4],\n",
       "       [ 6,  8,  9,  7],\n",
       "       [ 4,  6,  2,  7],\n",
       "       [34,  8,  7, 23]])"
      ]
     },
     "execution_count": 39,
     "metadata": {},
     "output_type": "execute_result"
    }
   ],
   "source": [
    "arr1 = np.array([[1,2,3,4] , [6,8,9,7]])\n",
    "arr2 = np.array([[4,6,2,7] , [34,8,7,23]])\n",
    "\n",
    "np.vstack((arr1 , arr2))"
   ]
  },
  {
   "cell_type": "markdown",
   "id": "3d45a02c-84a4-45d9-8be7-74cde757d585",
   "metadata": {},
   "source": [
    "### Q.NO.21"
   ]
  },
  {
   "cell_type": "raw",
   "id": "942022f5-8a6e-4a00-990b-37a4ec573bbe",
   "metadata": {},
   "source": [
    "Write a Python function using NumPy to create an array of integers within a specified range (inclusive) with a given step size."
   ]
  },
  {
   "cell_type": "code",
   "execution_count": 40,
   "id": "675d7e2f-1b6a-4e2b-bfc9-5f1fcce96287",
   "metadata": {},
   "outputs": [
    {
     "data": {
      "text/plain": [
       "array([ 1,  3,  5,  7,  9, 11, 13, 15, 17, 19, 21])"
      ]
     },
     "execution_count": 40,
     "metadata": {},
     "output_type": "execute_result"
    }
   ],
   "source": [
    "def array_range(arr1):\n",
    "    arr1 = np.arange(start,stop+1 , step)\n",
    "    \n",
    "    return arr1\n",
    "\n",
    "start = 1\n",
    "stop = 21\n",
    "step = 2\n",
    "\n",
    "array_range(arr1)"
   ]
  },
  {
   "cell_type": "markdown",
   "id": "215ddd68-65e6-494d-ac36-0cc0d0a365e8",
   "metadata": {},
   "source": [
    "### Q.NO.22"
   ]
  },
  {
   "cell_type": "raw",
   "id": "828e8f58-f4f2-4e2d-8f9a-491771e26823",
   "metadata": {},
   "source": [
    "Write a Python function using NumPy to generate an array of 10 equally spaced values between 0 and 1 (inclusive)."
   ]
  },
  {
   "cell_type": "code",
   "execution_count": 41,
   "id": "d0ff6aab-e493-4f2b-9bea-5bf726ea2e1e",
   "metadata": {},
   "outputs": [
    {
     "data": {
      "text/plain": [
       "array([0.        , 0.11111111, 0.22222222, 0.33333333, 0.44444444,\n",
       "       0.55555556, 0.66666667, 0.77777778, 0.88888889, 1.        ])"
      ]
     },
     "execution_count": 41,
     "metadata": {},
     "output_type": "execute_result"
    }
   ],
   "source": [
    "def equally_spaced(arr):\n",
    "    arr1 = np.linspace(0,1,10)  ## as linspace gives us equally spaced values\n",
    "    \n",
    "    return arr1\n",
    "\n",
    "equally_spaced(arr1)"
   ]
  },
  {
   "cell_type": "markdown",
   "id": "fd822cb3-6245-4d0e-9eed-72c2b68c13d7",
   "metadata": {},
   "source": [
    "### Q.NO.23"
   ]
  },
  {
   "cell_type": "raw",
   "id": "94bf38d8-7579-4bfa-becd-d30a1445edcb",
   "metadata": {},
   "source": [
    "Write a Python function using NumPy to create an array of 5 logarithmically spaced values between 1and 1000 (inclusive)."
   ]
  },
  {
   "cell_type": "code",
   "execution_count": 42,
   "id": "de2fa7ed-2cbb-4e53-892c-f603433b8668",
   "metadata": {},
   "outputs": [
    {
     "data": {
      "text/plain": [
       "array([   1.        ,    5.62341325,   31.6227766 ,  177.827941  ,\n",
       "       1000.        ])"
      ]
     },
     "execution_count": 42,
     "metadata": {},
     "output_type": "execute_result"
    }
   ],
   "source": [
    "def log_spaced(arr):\n",
    "    \n",
    "    arr1 = np.logspace(0,3,5)  ## evenly spaced log values between 1 and 1000\n",
    "    \n",
    "    return arr1\n",
    "\n",
    "log_spaced(arr1)"
   ]
  },
  {
   "cell_type": "markdown",
   "id": "5698f582-bb8e-474a-aa65-3efb08e9be2c",
   "metadata": {},
   "source": [
    "### Q.NO.24"
   ]
  },
  {
   "cell_type": "raw",
   "id": "c703a2f0-cacb-4cd7-b606-332bf22acf4e",
   "metadata": {},
   "source": [
    "Create a Pandas DataFrame using a NumPy array that contains 5 rows and 3 columns ,where the values are random integers between 1 and 100."
   ]
  },
  {
   "cell_type": "code",
   "execution_count": 43,
   "id": "9d618673-b566-42d5-8179-0ef952e3be12",
   "metadata": {},
   "outputs": [
    {
     "data": {
      "text/plain": [
       "array([[43, 81, 69],\n",
       "       [15, 18, 16],\n",
       "       [62, 51, 38],\n",
       "       [54, 73, 44],\n",
       "       [91, 93, 27]])"
      ]
     },
     "execution_count": 43,
     "metadata": {},
     "output_type": "execute_result"
    }
   ],
   "source": [
    "arr24 = np.random.randint(1,100,size = (5,3))\n",
    "arr24"
   ]
  },
  {
   "cell_type": "code",
   "execution_count": 44,
   "id": "e3ea0854-1b65-4095-a162-fac5d56748d9",
   "metadata": {},
   "outputs": [
    {
     "data": {
      "text/html": [
       "<div>\n",
       "<style scoped>\n",
       "    .dataframe tbody tr th:only-of-type {\n",
       "        vertical-align: middle;\n",
       "    }\n",
       "\n",
       "    .dataframe tbody tr th {\n",
       "        vertical-align: top;\n",
       "    }\n",
       "\n",
       "    .dataframe thead th {\n",
       "        text-align: right;\n",
       "    }\n",
       "</style>\n",
       "<table border=\"1\" class=\"dataframe\">\n",
       "  <thead>\n",
       "    <tr style=\"text-align: right;\">\n",
       "      <th></th>\n",
       "      <th>0</th>\n",
       "      <th>1</th>\n",
       "      <th>2</th>\n",
       "    </tr>\n",
       "  </thead>\n",
       "  <tbody>\n",
       "    <tr>\n",
       "      <th>0</th>\n",
       "      <td>43</td>\n",
       "      <td>81</td>\n",
       "      <td>69</td>\n",
       "    </tr>\n",
       "    <tr>\n",
       "      <th>1</th>\n",
       "      <td>15</td>\n",
       "      <td>18</td>\n",
       "      <td>16</td>\n",
       "    </tr>\n",
       "    <tr>\n",
       "      <th>2</th>\n",
       "      <td>62</td>\n",
       "      <td>51</td>\n",
       "      <td>38</td>\n",
       "    </tr>\n",
       "    <tr>\n",
       "      <th>3</th>\n",
       "      <td>54</td>\n",
       "      <td>73</td>\n",
       "      <td>44</td>\n",
       "    </tr>\n",
       "    <tr>\n",
       "      <th>4</th>\n",
       "      <td>91</td>\n",
       "      <td>93</td>\n",
       "      <td>27</td>\n",
       "    </tr>\n",
       "  </tbody>\n",
       "</table>\n",
       "</div>"
      ],
      "text/plain": [
       "    0   1   2\n",
       "0  43  81  69\n",
       "1  15  18  16\n",
       "2  62  51  38\n",
       "3  54  73  44\n",
       "4  91  93  27"
      ]
     },
     "execution_count": 44,
     "metadata": {},
     "output_type": "execute_result"
    }
   ],
   "source": [
    "import pandas as pd\n",
    "\n",
    "df = pd.DataFrame(arr24)\n",
    "df"
   ]
  },
  {
   "cell_type": "markdown",
   "id": "8e946a76-f3ed-4a2a-8fbf-a3c6f283474a",
   "metadata": {},
   "source": [
    "### Q.NO.25"
   ]
  },
  {
   "cell_type": "raw",
   "id": "c83ef6bb-9781-4269-8383-9c852347c909",
   "metadata": {},
   "source": [
    "Write a function that takes a Pandas DataFrame and replaces all negative values in a specific column with zeros . Use NumPy operations within the Pandas DataFrame."
   ]
  },
  {
   "cell_type": "code",
   "execution_count": 45,
   "id": "d44fe1f1-ac38-4406-b197-114bd0379547",
   "metadata": {},
   "outputs": [
    {
     "data": {
      "text/html": [
       "<div>\n",
       "<style scoped>\n",
       "    .dataframe tbody tr th:only-of-type {\n",
       "        vertical-align: middle;\n",
       "    }\n",
       "\n",
       "    .dataframe tbody tr th {\n",
       "        vertical-align: top;\n",
       "    }\n",
       "\n",
       "    .dataframe thead th {\n",
       "        text-align: right;\n",
       "    }\n",
       "</style>\n",
       "<table border=\"1\" class=\"dataframe\">\n",
       "  <thead>\n",
       "    <tr style=\"text-align: right;\">\n",
       "      <th></th>\n",
       "      <th>A</th>\n",
       "      <th>B</th>\n",
       "      <th>C</th>\n",
       "    </tr>\n",
       "  </thead>\n",
       "  <tbody>\n",
       "    <tr>\n",
       "      <th>0</th>\n",
       "      <td>1</td>\n",
       "      <td>-1</td>\n",
       "      <td>5</td>\n",
       "    </tr>\n",
       "    <tr>\n",
       "      <th>1</th>\n",
       "      <td>2</td>\n",
       "      <td>2</td>\n",
       "      <td>4</td>\n",
       "    </tr>\n",
       "    <tr>\n",
       "      <th>2</th>\n",
       "      <td>3</td>\n",
       "      <td>-3</td>\n",
       "      <td>3</td>\n",
       "    </tr>\n",
       "    <tr>\n",
       "      <th>3</th>\n",
       "      <td>-4</td>\n",
       "      <td>4</td>\n",
       "      <td>2</td>\n",
       "    </tr>\n",
       "    <tr>\n",
       "      <th>4</th>\n",
       "      <td>5</td>\n",
       "      <td>-5</td>\n",
       "      <td>1</td>\n",
       "    </tr>\n",
       "  </tbody>\n",
       "</table>\n",
       "</div>"
      ],
      "text/plain": [
       "   A  B  C\n",
       "0  1 -1  5\n",
       "1  2  2  4\n",
       "2  3 -3  3\n",
       "3 -4  4  2\n",
       "4  5 -5  1"
      ]
     },
     "execution_count": 45,
     "metadata": {},
     "output_type": "execute_result"
    }
   ],
   "source": [
    "data1 = {'A': [1, 2, 3, -4, 5],'B': [-1, 2, -3, 4, -5],'C': [5, 4, 3, 2, 1]}\n",
    "df = pd.DataFrame(data1)\n",
    "df\n"
   ]
  },
  {
   "cell_type": "code",
   "execution_count": 46,
   "id": "76225c17-42a9-4b2b-8ede-b69024b6debe",
   "metadata": {},
   "outputs": [
    {
     "data": {
      "text/html": [
       "<div>\n",
       "<style scoped>\n",
       "    .dataframe tbody tr th:only-of-type {\n",
       "        vertical-align: middle;\n",
       "    }\n",
       "\n",
       "    .dataframe tbody tr th {\n",
       "        vertical-align: top;\n",
       "    }\n",
       "\n",
       "    .dataframe thead th {\n",
       "        text-align: right;\n",
       "    }\n",
       "</style>\n",
       "<table border=\"1\" class=\"dataframe\">\n",
       "  <thead>\n",
       "    <tr style=\"text-align: right;\">\n",
       "      <th></th>\n",
       "      <th>A</th>\n",
       "      <th>B</th>\n",
       "      <th>C</th>\n",
       "    </tr>\n",
       "  </thead>\n",
       "  <tbody>\n",
       "    <tr>\n",
       "      <th>0</th>\n",
       "      <td>1</td>\n",
       "      <td>0</td>\n",
       "      <td>5</td>\n",
       "    </tr>\n",
       "    <tr>\n",
       "      <th>1</th>\n",
       "      <td>2</td>\n",
       "      <td>2</td>\n",
       "      <td>4</td>\n",
       "    </tr>\n",
       "    <tr>\n",
       "      <th>2</th>\n",
       "      <td>3</td>\n",
       "      <td>0</td>\n",
       "      <td>3</td>\n",
       "    </tr>\n",
       "    <tr>\n",
       "      <th>3</th>\n",
       "      <td>-4</td>\n",
       "      <td>4</td>\n",
       "      <td>2</td>\n",
       "    </tr>\n",
       "    <tr>\n",
       "      <th>4</th>\n",
       "      <td>5</td>\n",
       "      <td>0</td>\n",
       "      <td>1</td>\n",
       "    </tr>\n",
       "  </tbody>\n",
       "</table>\n",
       "</div>"
      ],
      "text/plain": [
       "   A  B  C\n",
       "0  1  0  5\n",
       "1  2  2  4\n",
       "2  3  0  3\n",
       "3 -4  4  2\n",
       "4  5  0  1"
      ]
     },
     "execution_count": 46,
     "metadata": {},
     "output_type": "execute_result"
    }
   ],
   "source": [
    "def pd_data():   ## dataframe after replacing negative values of column 'B' values\n",
    "   \n",
    "    data1 = {'A': [1, 2, 3, -4, 5],'B': [-1, 2, -3, 4, -5],'C': [5, 4, 3, 2, 1]}\n",
    "    df = pd.DataFrame(data1)\n",
    "    df['B'] = np.where(df['B']<0,0,df['B'])\n",
    "    \n",
    "    return df\n",
    "    \n",
    "pd_data()"
   ]
  },
  {
   "cell_type": "markdown",
   "id": "bcc133ce-ce9e-4ca0-a522-c6a87aa0d155",
   "metadata": {},
   "source": [
    "### Q.NO.26"
   ]
  },
  {
   "cell_type": "raw",
   "id": "f6b60701-dcb9-4ffd-a743-e5825f857a30",
   "metadata": {},
   "source": [
    "Access the 3rd elements from the given NumPy array."
   ]
  },
  {
   "cell_type": "code",
   "execution_count": 47,
   "id": "1c322498-6b6f-4a8a-82ee-379d8cf7c826",
   "metadata": {},
   "outputs": [
    {
     "data": {
      "text/plain": [
       "30"
      ]
     },
     "execution_count": 47,
     "metadata": {},
     "output_type": "execute_result"
    }
   ],
   "source": [
    "arr = np.array([10 , 20 , 30 , 40 , 50])\n",
    "\n",
    "arr[2]  ## 3rd element of the array"
   ]
  },
  {
   "cell_type": "markdown",
   "id": "7d740c54-d015-41c9-a2e4-ea9da212d8a0",
   "metadata": {},
   "source": [
    "### Q.NO.27"
   ]
  },
  {
   "cell_type": "raw",
   "id": "b43dcdf1-7beb-4407-bf4d-643de1283985",
   "metadata": {},
   "source": [
    "Retrieve the element at index (1,2) from the @d array NumPy array"
   ]
  },
  {
   "cell_type": "code",
   "execution_count": 48,
   "id": "522f2eaa-58c4-4f3f-a79b-4a09072af5e1",
   "metadata": {},
   "outputs": [
    {
     "data": {
      "text/plain": [
       "6"
      ]
     },
     "execution_count": 48,
     "metadata": {},
     "output_type": "execute_result"
    }
   ],
   "source": [
    "arr_2d = np.array([[1,2,3],\n",
    "                   [4,5,6],\n",
    "                   [7,8,9]])\n",
    "\n",
    "arr_2d[1][2]"
   ]
  },
  {
   "cell_type": "markdown",
   "id": "31f83d98-e76a-4c07-89b6-9d6b28bacfdf",
   "metadata": {},
   "source": [
    "### Q.NO.28"
   ]
  },
  {
   "cell_type": "raw",
   "id": "7e62718a-a805-4ae9-8604-97a4a303d646",
   "metadata": {},
   "source": [
    "Using boolean indexing, extract elements greater than 5 from the given NumPy array.\n",
    "arr\t= np.array([3,\t8,  2, 10, 5,  7])\n"
   ]
  },
  {
   "cell_type": "code",
   "execution_count": 49,
   "id": "ab7155db-4d44-4fb7-8924-9c56cc6fabc7",
   "metadata": {},
   "outputs": [
    {
     "data": {
      "text/plain": [
       "array([False,  True, False,  True, False,  True])"
      ]
     },
     "execution_count": 49,
     "metadata": {},
     "output_type": "execute_result"
    }
   ],
   "source": [
    "arr = np.array([ 3 , 8 , 2 , 10 , 5 , 7 ])\n",
    "cond = arr>5\n",
    "\n",
    "cond"
   ]
  },
  {
   "cell_type": "code",
   "execution_count": 50,
   "id": "8a379afe-fa19-4813-8206-02643ad23d6a",
   "metadata": {},
   "outputs": [
    {
     "data": {
      "text/plain": [
       "array([ 8, 10,  7])"
      ]
     },
     "execution_count": 50,
     "metadata": {},
     "output_type": "execute_result"
    }
   ],
   "source": [
    "np.extract(cond , arr)"
   ]
  },
  {
   "cell_type": "markdown",
   "id": "638a9747-89d8-4ea2-adf5-9828f18fe541",
   "metadata": {},
   "source": [
    "### Q.NO.29"
   ]
  },
  {
   "cell_type": "raw",
   "id": "2b396701-5828-43a2-99a4-9febc2732543",
   "metadata": {},
   "source": [
    "Perform basic slicing to extract elements from index 2 to 5 (inclusive} from the given NumPy array.\n",
    "\n",
    "arr=  np.array([l,\t2, 3, 4, 5, 6, 7, 8, 9])\n"
   ]
  },
  {
   "cell_type": "code",
   "execution_count": 51,
   "id": "5e0bac5f-b6cb-47aa-8148-5bc2586fdc09",
   "metadata": {},
   "outputs": [
    {
     "data": {
      "text/plain": [
       "array([3, 4, 5, 6])"
      ]
     },
     "execution_count": 51,
     "metadata": {},
     "output_type": "execute_result"
    }
   ],
   "source": [
    "## extracting elements from index 2 to 5\n",
    "\n",
    "arr = np.array([ 1 , 2 , 3 , 4 , 5 , 6 , 7 , 8 , 9 ])\n",
    "\n",
    "\n",
    "arr[2:6]"
   ]
  },
  {
   "cell_type": "markdown",
   "id": "ab976109-b82c-4156-9b5a-1f4079599a1a",
   "metadata": {},
   "source": [
    "### Q.NO.30"
   ]
  },
  {
   "cell_type": "raw",
   "id": "4323666d-d153-4173-b678-d5b7627b26e6",
   "metadata": {},
   "source": [
    "Slice the 2D NumPy array to extract the sub-array'[[2, 3], [5, 6]]' from the given array.\n",
    "\n",
    "\n",
    "arr\t2d  = np.array([[l,\t2,\t3],\n",
    "\t[4,\t5,\t6],\n",
    "\t[7,\t8,\t9]])\n"
   ]
  },
  {
   "cell_type": "code",
   "execution_count": 52,
   "id": "b5f4288d-fdc7-4fd4-9327-3b014dcf1b94",
   "metadata": {},
   "outputs": [
    {
     "data": {
      "text/plain": [
       "array([[2, 3],\n",
       "       [5, 6]])"
      ]
     },
     "execution_count": 52,
     "metadata": {},
     "output_type": "execute_result"
    }
   ],
   "source": [
    "## extracting subarray\n",
    "\n",
    "arr_2d = np.array([[ 1 , 2 , 3 ],\n",
    "                   [ 4 , 5 , 6 ],\n",
    "                   [ 7 , 8 , 9 ]])\n",
    "\n",
    "arr_2d[0:2,[1,2]]"
   ]
  },
  {
   "cell_type": "markdown",
   "id": "f545ca1a-3cf1-4195-9943-225e07b8febc",
   "metadata": {},
   "source": [
    "### Q.NO.31"
   ]
  },
  {
   "cell_type": "raw",
   "id": "2230a762-e464-4ecb-9d95-6953b39aea9f",
   "metadata": {},
   "source": [
    "Write a NumPy function to extract elements in specific order from a given 2D array based on indices provided in another array."
   ]
  },
  {
   "cell_type": "code",
   "execution_count": 53,
   "id": "933a3c83-7796-4fd8-88e3-46e8917a742e",
   "metadata": {},
   "outputs": [
    {
     "data": {
      "text/plain": [
       "array([1, 2, 3, 4, 5, 6, 7, 8, 9])"
      ]
     },
     "execution_count": 53,
     "metadata": {},
     "output_type": "execute_result"
    }
   ],
   "source": [
    "arr_2d = np.array([[ 1 , 2 , 3 ],\n",
    "                   [ 4 , 5 , 6 ],\n",
    "                   [ 7 , 8 , 9 ]])\n",
    "\n",
    "extracted_elem = arr_2d.flatten()\n",
    "extracted_elem\n",
    "## first we created a array and then flattened it to access the indices easily"
   ]
  },
  {
   "cell_type": "code",
   "execution_count": 54,
   "id": "fd9d1674-5415-45d0-824e-9124ea243435",
   "metadata": {},
   "outputs": [
    {
     "data": {
      "text/plain": [
       "array([3, 4, 6, 0, 1, 2, 5, 7, 8])"
      ]
     },
     "execution_count": 54,
     "metadata": {},
     "output_type": "execute_result"
    }
   ],
   "source": [
    "indices_arr = np.array([ 3 , 4 , 6 , 0 , 1 , 2 , 5 , 7 , 8 ]) \n",
    "indices_arr\n",
    "## created an array whose element will act as index to extract the  element from another array"
   ]
  },
  {
   "cell_type": "code",
   "execution_count": 55,
   "id": "7002d073-77e1-45a6-8956-67612de5fcc0",
   "metadata": {},
   "outputs": [
    {
     "name": "stdout",
     "output_type": "stream",
     "text": [
      "[[4 5 7]\n",
      " [1 2 3]\n",
      " [6 8 9]]\n"
     ]
    }
   ],
   "source": [
    "extracted_elem = arr_2d.flatten()[indices_arr]\n",
    "\n",
    "print(extracted_elem.reshape(arr_2d.shape))  \n",
    "## reshaped the array again in 2d array"
   ]
  },
  {
   "cell_type": "markdown",
   "id": "888c58c4-0147-407d-b06a-fb582edbd4fb",
   "metadata": {},
   "source": [
    "### Q.NO. 32"
   ]
  },
  {
   "cell_type": "raw",
   "id": "201635f6-601c-4285-a79d-95b6f0589939",
   "metadata": {},
   "source": [
    "Create a NumPy function that filtrs elements greater than a threshold from a given 1D array using boolean indexing"
   ]
  },
  {
   "cell_type": "code",
   "execution_count": 56,
   "id": "99437ecf-5ed9-46dd-afdd-fd791198f6f9",
   "metadata": {},
   "outputs": [
    {
     "name": "stdout",
     "output_type": "stream",
     "text": [
      "[False False False  True  True False  True  True False False  True  True]\n",
      "array after condition :  [ 7  6  5  8  9 12]\n"
     ]
    }
   ],
   "source": [
    "arr = np.array([ 1 , 4 , 2 , 7 , 6 , 4 , 5 , 8 , 4 , 3 , 9 , 12 ])\n",
    "\n",
    "\n",
    "## created a threshold \n",
    "threshold = 4\n",
    "\n",
    "print(arr>threshold)\n",
    "\n",
    "print(\"array after condition : \" ,arr[arr>threshold])"
   ]
  },
  {
   "cell_type": "markdown",
   "id": "273ac034-f126-4848-ae0a-da2aaf6f315a",
   "metadata": {},
   "source": [
    "### Q.No.33"
   ]
  },
  {
   "cell_type": "raw",
   "id": "55ed8678-5307-4d4f-b557-0dfc14285044",
   "metadata": {},
   "source": [
    "Develop a NumPy function that extracts specific elements from a 3D array using indices provided in three separate arrays for each dimension."
   ]
  },
  {
   "cell_type": "code",
   "execution_count": 57,
   "id": "fa0069a0-b2f7-4981-9b38-024415d5010b",
   "metadata": {},
   "outputs": [
    {
     "name": "stdout",
     "output_type": "stream",
     "text": [
      "array is :  [[[1 2 3]\n",
      "  [5 6 7]\n",
      "  [9 4 3]]\n",
      "\n",
      " [[3 6 2]\n",
      "  [4 8 1]\n",
      "  [5 8 2]]]\n",
      "extracted elements are :   [4 2]\n"
     ]
    }
   ],
   "source": [
    "arr = np.array([[[1,2,3],\n",
    "               [5,6,7],\n",
    "               [9,4,3]],\n",
    "                [[3,6,2],\n",
    "                 [4,8,1],\n",
    "                 [5,8,2]]])\n",
    "\n",
    "print(\"array is : \" ,arr)\n",
    "\n",
    "## 3 arrays for extracting elements\n",
    "dim_1 = np.array([0,1])\n",
    "dim_2 = np.array([2,0])\n",
    "dim_3 = np.array([1,2])\n",
    "\n",
    "# extracting elements using 3 arrays as indices\n",
    "extracted_elem = arr[dim_1 ,dim_2 , dim_3]\n",
    "\n",
    "print(\"extracted elements are :  \",extracted_elem)"
   ]
  },
  {
   "cell_type": "markdown",
   "id": "76d4ae6d-3e92-4fb5-8ed4-26ab30660323",
   "metadata": {},
   "source": [
    "### Q.NO.34"
   ]
  },
  {
   "cell_type": "raw",
   "id": "6c969e2e-aadf-49a9-aa43-63b66bee9ba9",
   "metadata": {},
   "source": [
    "Wrie a NumPy function that returns elements from an array where both two conditions are satisfied using boolean indexing."
   ]
  },
  {
   "cell_type": "code",
   "execution_count": 58,
   "id": "9eb921c3-19fe-4667-bc42-3c9d26cf456e",
   "metadata": {},
   "outputs": [
    {
     "name": "stdout",
     "output_type": "stream",
     "text": [
      "array is  : [[11  5  1 17 14]\n",
      " [13  6  3 18  7]\n",
      " [ 7  2 14  1  2]\n",
      " [ 5  7  2 10 14]]\n"
     ]
    },
    {
     "data": {
      "text/plain": [
       "array([[False, False, False, False,  True],\n",
       "       [False,  True, False,  True, False],\n",
       "       [False, False,  True, False, False],\n",
       "       [False, False, False,  True,  True]])"
      ]
     },
     "execution_count": 58,
     "metadata": {},
     "output_type": "execute_result"
    }
   ],
   "source": [
    "arr = np.random.randint(1,20 ,(4,5))\n",
    "\n",
    "print(\"array is  :\" ,arr)\n",
    "\n",
    "cond_1 = arr >3       ## condition 1 is that all elements should be greater than 3\n",
    "cond_2 = (arr%2 ==0)  ## condition 2 is that elements should be divisible by 2\n",
    "\n",
    "np.logical_and(cond_1 , cond_2)   \n",
    "\n",
    "## gets all the values in boolean "
   ]
  },
  {
   "cell_type": "code",
   "execution_count": 59,
   "id": "8ccb8097-06ef-4164-9e3c-e3a7083c95f5",
   "metadata": {},
   "outputs": [
    {
     "data": {
      "text/plain": [
       "array([14,  6, 18, 14, 10, 14])"
      ]
     },
     "execution_count": 59,
     "metadata": {},
     "output_type": "execute_result"
    }
   ],
   "source": [
    "arr[np.logical_and(cond_1 , cond_2)]"
   ]
  },
  {
   "cell_type": "markdown",
   "id": "b5b41365-e664-4e2d-830d-6563cc378424",
   "metadata": {},
   "source": [
    "### Q.NO.35"
   ]
  },
  {
   "cell_type": "raw",
   "id": "24c47b58-e829-4d9a-bdc3-fbc87ffa273d",
   "metadata": {},
   "source": [
    "Create a NumPy function that extracts elements from a 2d array using row and column indices provided in separate arrays."
   ]
  },
  {
   "cell_type": "code",
   "execution_count": 60,
   "id": "f3c8c114-0d2c-42bb-bca2-c199ec798e48",
   "metadata": {},
   "outputs": [
    {
     "name": "stdout",
     "output_type": "stream",
     "text": [
      "array is :  [[4 3 2 3]\n",
      " [4 7 2 3]\n",
      " [6 7 4 1]\n",
      " [3 1 4 4]]\n",
      "extracted array is :  [2 1 1]\n"
     ]
    }
   ],
   "source": [
    "arr = np.random.randint(1,8,(4,4))\n",
    "\n",
    "print(\"array is : \"  ,arr)\n",
    "\n",
    "## arrays giving row and column indices\n",
    "row_indices = np.array([1,3,2])\n",
    "col_indices = np.array([2,1,3])\n",
    "\n",
    "## extracting elements using row and column indices\n",
    "\n",
    "extracted_arr = arr[row_indices , col_indices]\n",
    "\n",
    "print(\"extracted array is : \",extracted_arr)"
   ]
  },
  {
   "cell_type": "markdown",
   "id": "fd3df021-9194-49f4-9c94-08b165f69205",
   "metadata": {},
   "source": [
    "### Q.NO.36"
   ]
  },
  {
   "cell_type": "raw",
   "id": "a0bd2cf4-e3b8-4110-a341-08d105a77a1f",
   "metadata": {},
   "source": [
    "Given an array arr of shape (3,3) , add a scalar value of 5 to each element using numpy broadcasting."
   ]
  },
  {
   "cell_type": "code",
   "execution_count": 61,
   "id": "5e0e42d7-4c9a-406c-a2f3-a0ad03fce72a",
   "metadata": {},
   "outputs": [
    {
     "name": "stdout",
     "output_type": "stream",
     "text": [
      "array is : [[4 2 1]\n",
      " [4 1 1]\n",
      " [1 2 1]]\n",
      "after addition array is :  [[9 7 6]\n",
      " [9 6 6]\n",
      " [6 7 6]]\n"
     ]
    }
   ],
   "source": [
    "arr = np.random.randint(1,5,(3,3))\n",
    "\n",
    "print(\"array is :\", arr)\n",
    "\n",
    "## adding scalar value of 5 to each element \n",
    "\n",
    "arr1 = arr + 5\n",
    "\n",
    "print(\"after addition array is : \", arr1)\n"
   ]
  },
  {
   "cell_type": "markdown",
   "id": "e321dbae-e324-4a8d-858b-6a263c70dc7b",
   "metadata": {},
   "source": [
    "### Q.NO.37"
   ]
  },
  {
   "cell_type": "raw",
   "id": "5d3b28c5-c463-4ec3-9382-bdb36350dd1b",
   "metadata": {},
   "source": [
    "Consider two arrays arr1 of shape (1,3) and arr2 of shape(3,4). Multiply each row of arr2 by the corresponding element in arr1 using NumPy broadcasting."
   ]
  },
  {
   "cell_type": "code",
   "execution_count": 62,
   "id": "06c4be3b-7c1e-41d1-968b-d99c5f5f0b3d",
   "metadata": {},
   "outputs": [
    {
     "name": "stdout",
     "output_type": "stream",
     "text": [
      "array 1 is :  [[8 6 4]]\n",
      "array 2 is :  [[9 9 9 8]\n",
      " [6 8 6 8]\n",
      " [5 6 4 1]]\n",
      "transpose of arr1 :  [[8]\n",
      " [6]\n",
      " [4]]\n",
      "final output is :  [[72 72 72 64]\n",
      " [36 48 36 48]\n",
      " [20 24 16  4]]\n"
     ]
    }
   ],
   "source": [
    "arr1 = np.random.randint(1,10 ,(1,3))\n",
    "arr2 = np.random.randint(1,10 ,(3,4))\n",
    "\n",
    "print(\"array 1 is : \",arr1)\n",
    "print(\"array 2 is : \",arr2)\n",
    "\n",
    "\n",
    "##we need to transpose arr1 to match the shapes\n",
    "\n",
    "arr1.T\n",
    "\n",
    "print(\"transpose of arr1 : \" ,arr1.T)\n",
    "## multiplying by numpy broadcasting\n",
    "\n",
    "print(\"final output is : \" , arr1.T * arr2)"
   ]
  },
  {
   "cell_type": "markdown",
   "id": "aa10431d-1d0e-4dd5-9234-86f4bf8b0347",
   "metadata": {},
   "source": [
    "### Q.NO.38"
   ]
  },
  {
   "cell_type": "raw",
   "id": "490e56d2-2d8e-473e-94e9-a46d6e16d301",
   "metadata": {},
   "source": [
    "Given a 1D array arr1 of shape (1,4) and a 2D array arr2 of shape (4,3) , add arr1 to each row of arr2 using NumPy broadcasting."
   ]
  },
  {
   "cell_type": "code",
   "execution_count": 63,
   "id": "cb403946-649b-4f02-a8ba-f29003447a2a",
   "metadata": {},
   "outputs": [
    {
     "name": "stdout",
     "output_type": "stream",
     "text": [
      "the new array 1 is : [[[1]\n",
      "  [2]\n",
      "  [3]\n",
      "  [4]]]\n",
      "adding using numpy broadcasting :  [[[ 6  7  8]\n",
      "  [10 11 12]\n",
      "  [14 15 16]\n",
      "  [18 19 20]]]\n"
     ]
    }
   ],
   "source": [
    "arr1 = np.array([1, 2, 3, 4])  # shape (4,)\n",
    "arr2 = np.array([[5, 6, 7],\n",
    "                 [8, 9, 10],\n",
    "                 [11, 12, 13],\n",
    "                 [14, 15, 16]])  # shape (4, 3)\n",
    "\n",
    "## reshaping array to 1 row and 4 columns\n",
    "arr1_new = arr1.reshape(1,4,1)\n",
    "print(\"the new array 1 is :\" , arr1_new)\n",
    "\n",
    "\n",
    "print(\"adding using numpy broadcasting : \" ,arr1_new + arr2)"
   ]
  },
  {
   "cell_type": "markdown",
   "id": "cda8a776-bbcf-4fa9-8c57-a583860c7ded",
   "metadata": {},
   "source": [
    "### Q.NO.39"
   ]
  },
  {
   "cell_type": "raw",
   "id": "56a52121-b424-4c0c-a722-cfff975fdb21",
   "metadata": {},
   "source": [
    " Consider two arrays arr1 of shape (3,1) and arr2 of shape (1,3). Add these arrays using numpy broadcasting"
   ]
  },
  {
   "cell_type": "code",
   "execution_count": 64,
   "id": "4d143391-954d-445a-93de-1e415d393481",
   "metadata": {},
   "outputs": [
    {
     "name": "stdout",
     "output_type": "stream",
     "text": [
      "array1 is :  [[2]\n",
      " [4]\n",
      " [3]]\n",
      "array2 is :  [[3 4 2]]\n"
     ]
    },
    {
     "data": {
      "text/plain": [
       "array([[5, 6, 4],\n",
       "       [7, 8, 6],\n",
       "       [6, 7, 5]])"
      ]
     },
     "execution_count": 64,
     "metadata": {},
     "output_type": "execute_result"
    }
   ],
   "source": [
    "## Creating random arrays\n",
    "\n",
    "arr1 = np.random.randint(2,5,(3,1))\n",
    "arr2 = np.random.randint(2,5,(1,3))\n",
    "\n",
    "## printing the arrays\n",
    "\n",
    "print(\"array1 is : \" ,arr1)\n",
    "print(\"array2 is : \" ,arr2)\n",
    "## adding arrays\n",
    "\n",
    "arr1 + arr2"
   ]
  },
  {
   "cell_type": "markdown",
   "id": "baba77c9-832d-42bc-b1d2-56cd1dc2498b",
   "metadata": {},
   "source": [
    "### Q.NO.40"
   ]
  },
  {
   "cell_type": "raw",
   "id": "4fb91d8d-c6db-4a7b-865c-db255a42cd03",
   "metadata": {},
   "source": [
    "Given arrays arr1 of shape (2,3) and arr2 of shape (2,2) , perform multiplication using NumPy broadcasting. Handle the shape incompatibility."
   ]
  },
  {
   "cell_type": "code",
   "execution_count": 65,
   "id": "fc1659a3-1f90-4e3d-8e9c-3b182c140a11",
   "metadata": {},
   "outputs": [
    {
     "name": "stdout",
     "output_type": "stream",
     "text": [
      "[[1 4 3]\n",
      " [3 1 4]]\n",
      "[[1 2]\n",
      " [7 7]]\n",
      "reshaped array :  [[[1]\n",
      "  [2]]\n",
      "\n",
      " [[7]\n",
      "  [7]]]\n",
      "After multiplication broadcasting :  [[[ 1  4  3]\n",
      "  [ 6  2  8]]\n",
      "\n",
      " [[ 7 28 21]\n",
      "  [21  7 28]]]\n"
     ]
    }
   ],
   "source": [
    "arr1 = np.random.randint(1,10 ,(2,3))\n",
    "arr2 = np.random.randint(1,8 , (2,2))\n",
    "print(arr1)\n",
    "print(arr2)\n",
    "arr2_new = arr2.reshape(2,2,1)  ## we reshaped the array to handle the shape incompatibilty\n",
    "\n",
    "print (\"reshaped array : \" ,arr2_new)\n",
    "print(\"After multiplication broadcasting : \" ,arr1 * arr2_new)"
   ]
  },
  {
   "cell_type": "code",
   "execution_count": 66,
   "id": "9f76fce2-4964-4521-a7e1-e8e7ac17b6ea",
   "metadata": {},
   "outputs": [
    {
     "name": "stdout",
     "output_type": "stream",
     "text": [
      "[[9 3 8]\n",
      " [8 7 9]]\n",
      "[[6 3]\n",
      " [4 3]]\n"
     ]
    },
    {
     "data": {
      "text/plain": [
       "array([[66, 36],\n",
       "       [80, 48],\n",
       "       [78, 48]])"
      ]
     },
     "execution_count": 66,
     "metadata": {},
     "output_type": "execute_result"
    }
   ],
   "source": [
    "## ALTERNATE METHOD\n",
    "\n",
    "arr1 = np.random.randint(1,10 ,(2,3))\n",
    "arr2 = np.random.randint(1,8 , (2,2))\n",
    "print(arr1)\n",
    "print(arr2)\n",
    "arr1_new = arr1.reshape(3,2)\n",
    "arr1_new  @ arr2"
   ]
  },
  {
   "cell_type": "markdown",
   "id": "0ca7080c-5b21-4578-af6b-e05c83366020",
   "metadata": {
    "tags": []
   },
   "source": [
    "### Q.NO.41\n"
   ]
  },
  {
   "cell_type": "raw",
   "id": "2622dba6-9add-4d02-9469-2e7df9764079",
   "metadata": {},
   "source": [
    "Calculate column-wise mean for the given array:"
   ]
  },
  {
   "cell_type": "code",
   "execution_count": 67,
   "id": "84199d31-4ce1-432d-bb01-603afac41a45",
   "metadata": {},
   "outputs": [
    {
     "data": {
      "text/plain": [
       "array([2.5, 3.5, 4.5])"
      ]
     },
     "execution_count": 67,
     "metadata": {},
     "output_type": "execute_result"
    }
   ],
   "source": [
    "arr = np.array([[1,2,3] ,[4,5,6]])\n",
    "np.mean(arr ,axis=0)  ## arithmetic mean column-wise"
   ]
  },
  {
   "cell_type": "markdown",
   "id": "57171579-dc94-4bed-8354-1be076e41463",
   "metadata": {},
   "source": [
    "### Q.NO.42\n"
   ]
  },
  {
   "cell_type": "raw",
   "id": "52d54166-acc6-4f74-9668-2e2cc444a64f",
   "metadata": {},
   "source": [
    "Find the maximum value in each row of the given array"
   ]
  },
  {
   "cell_type": "code",
   "execution_count": 68,
   "id": "b64d2127-eff0-4d92-b8fa-a942f27eb5ec",
   "metadata": {},
   "outputs": [
    {
     "data": {
      "text/plain": [
       "array([[1, 2, 3],\n",
       "       [4, 5, 6]])"
      ]
     },
     "execution_count": 68,
     "metadata": {},
     "output_type": "execute_result"
    }
   ],
   "source": [
    "arr = np.array([[1,2,3] , [ 4,5,6]])\n",
    "arr"
   ]
  },
  {
   "cell_type": "code",
   "execution_count": 69,
   "id": "2eb7ff70-d17b-47fe-a085-cfe2cbd600f5",
   "metadata": {},
   "outputs": [
    {
     "data": {
      "text/plain": [
       "array([3, 6])"
      ]
     },
     "execution_count": 69,
     "metadata": {},
     "output_type": "execute_result"
    }
   ],
   "source": [
    "np.max(arr , axis =1)  ## max gives the maximum values along axis"
   ]
  },
  {
   "cell_type": "markdown",
   "id": "aa38ac4f-5a25-48be-9965-9beaddac522b",
   "metadata": {},
   "source": [
    "### Q.NO.43\n"
   ]
  },
  {
   "cell_type": "raw",
   "id": "46b0aed7-b1e6-4d5a-b363-68fdd01329a3",
   "metadata": {},
   "source": [
    "For the given array ,  find the indices of maximum value in each column"
   ]
  },
  {
   "cell_type": "code",
   "execution_count": 70,
   "id": "b8564337-a6ac-40ed-968c-84a1c48d6e2e",
   "metadata": {},
   "outputs": [
    {
     "data": {
      "text/plain": [
       "array([[1, 2, 3],\n",
       "       [4, 5, 6]])"
      ]
     },
     "execution_count": 70,
     "metadata": {},
     "output_type": "execute_result"
    }
   ],
   "source": [
    "arr = np.array([[1,2,3] ,[4,5,6]])\n",
    "arr\n"
   ]
  },
  {
   "cell_type": "code",
   "execution_count": 71,
   "id": "b5bb26bd-fe32-419c-8fff-a5cd539a2227",
   "metadata": {},
   "outputs": [
    {
     "data": {
      "text/plain": [
       "array([1, 1, 1])"
      ]
     },
     "execution_count": 71,
     "metadata": {},
     "output_type": "execute_result"
    }
   ],
   "source": [
    "np.argmax(arr ,axis =0)   ## argmax gives the indices with max. value on axis"
   ]
  },
  {
   "cell_type": "markdown",
   "id": "42ccb748-d7c0-414c-bdba-21dbcc119b45",
   "metadata": {},
   "source": [
    "### Q.NO.44"
   ]
  },
  {
   "cell_type": "raw",
   "id": "88eb68b0-a553-4573-a5d1-607f2b8be14f",
   "metadata": {},
   "source": [
    "For the given array, apply custom function to calculate moving sum along rows.\n",
    "\n",
    "arr=  np.array([[l,\t2, 3],\t[li,  5, 6]])\n"
   ]
  },
  {
   "cell_type": "code",
   "execution_count": 72,
   "id": "44b2b04e-7037-4a4d-8803-9c8bffb13e60",
   "metadata": {},
   "outputs": [
    {
     "name": "stdout",
     "output_type": "stream",
     "text": [
      "[[ 3  5]\n",
      " [ 9 11]]\n"
     ]
    }
   ],
   "source": [
    "def moving_sum(arr, window_size):\n",
    "    cumsum = np.cumsum(arr, axis=1)\n",
    "    cumsum[:, window_size:] = cumsum[:, window_size:] - cumsum[:, :-window_size]\n",
    "    return cumsum[:, window_size - 1:]\n",
    "\n",
    "arr = np.array([[1, 2, 3], [4, 5, 6]])\n",
    "window_size = 2\n",
    "result = moving_sum(arr, window_size)\n",
    "print(result)\n"
   ]
  },
  {
   "cell_type": "markdown",
   "id": "bcfaf0a1-8d29-4898-9829-f1db3cbc236c",
   "metadata": {},
   "source": [
    "### Q.NO.45"
   ]
  },
  {
   "cell_type": "raw",
   "id": "9334c175-a5cd-4961-835e-a6634813c07e",
   "metadata": {},
   "source": [
    "In the given array, check if all elements in each column are even.\n",
    "arr\t= np.array([[2,\t4,  6],\t[3,  5,  7]])\n"
   ]
  },
  {
   "cell_type": "code",
   "execution_count": 73,
   "id": "f39aff25-8d91-46ef-8dde-58a5b7e035ec",
   "metadata": {},
   "outputs": [
    {
     "data": {
      "text/plain": [
       "array([[2, 4, 6],\n",
       "       [3, 5, 7]])"
      ]
     },
     "execution_count": 73,
     "metadata": {},
     "output_type": "execute_result"
    }
   ],
   "source": [
    "arr = np.array([[ 2 , 4 , 6 ] , [ 3 , 5 , 7 ]])\n",
    "\n",
    "arr"
   ]
  },
  {
   "cell_type": "code",
   "execution_count": 74,
   "id": "f3944a4f-4cdb-457d-b15e-36b3a3069b60",
   "metadata": {},
   "outputs": [
    {
     "data": {
      "text/plain": [
       "array([False, False, False])"
      ]
     },
     "execution_count": 74,
     "metadata": {},
     "output_type": "execute_result"
    }
   ],
   "source": [
    "is_even=  np.all(arr%2 ==0 ,axis = 0)\n",
    "\n",
    "is_even  ## since all the elements in each column are not even "
   ]
  },
  {
   "cell_type": "markdown",
   "id": "b6641027-bfa0-4284-9fd6-2f2bb0fe4b28",
   "metadata": {},
   "source": [
    "### Q.NO.46"
   ]
  },
  {
   "cell_type": "raw",
   "id": "239ac360-ada4-43d4-9a01-e6f03554f3dd",
   "metadata": {},
   "source": [
    "Given a NumPy array arr, reshape it into a matrix of dimensions 'm' rows and 'n' columns. Return the reshaped matrix.\n",
    "original_array  =  np.array([l,\t2, 3,  4, 5, 6])\n"
   ]
  },
  {
   "cell_type": "code",
   "execution_count": 75,
   "id": "4e524d2e-e3d8-4517-92ec-7c56fedbc616",
   "metadata": {},
   "outputs": [
    {
     "data": {
      "text/plain": [
       "array([[1, 2, 3],\n",
       "       [4, 5, 6]])"
      ]
     },
     "execution_count": 75,
     "metadata": {},
     "output_type": "execute_result"
    }
   ],
   "source": [
    "original_array = np.array([ 1 , 2 , 3 , 4 , 5 , 6 ])\n",
    "\n",
    "new_array = original_array.reshape((2,3))  ## we have taken m as 2 and n = 3\n",
    "new_array"
   ]
  },
  {
   "cell_type": "markdown",
   "id": "2f444999-b767-4280-809a-cd1180ac5a3a",
   "metadata": {},
   "source": [
    "### Q.NO.47"
   ]
  },
  {
   "cell_type": "raw",
   "id": "0a22c19c-bad2-4fd7-bab8-3cb29896607b",
   "metadata": {},
   "source": [
    "Create a function that takes a matrix asinput and returns the flattened array.\n",
    "\n",
    "input_matrix = np.array([[l,\t2, 3],  [4,  5,  6]])\n"
   ]
  },
  {
   "cell_type": "code",
   "execution_count": 76,
   "id": "8362e4ed-2dbf-4ef1-bb93-056b94e55dbd",
   "metadata": {},
   "outputs": [
    {
     "data": {
      "text/plain": [
       "array([1, 2, 3, 4, 5, 6])"
      ]
     },
     "execution_count": 76,
     "metadata": {},
     "output_type": "execute_result"
    }
   ],
   "source": [
    "input_matrix = np.array([[ 1 , 2 , 3 ] , [ 4, 5 , 6 ]])\n",
    "\n",
    "flattened_array = input_matrix.flatten()\n",
    "\n",
    "flattened_array"
   ]
  },
  {
   "cell_type": "markdown",
   "id": "5cde01a9-8dda-438b-b28d-c076db2a05b3",
   "metadata": {},
   "source": [
    "### Q.NO.48"
   ]
  },
  {
   "cell_type": "raw",
   "id": "b3e1a67d-29f2-4da5-9c4d-958f707c5f2c",
   "metadata": {},
   "source": [
    "Write a function that concatenates two given arrays along a specified axis.\n",
    "arrayl =  np.array([[l,\t2],  [3,  4]])\n",
    "array2 = np.array([[5,\t6],\t[7,  8]])\n"
   ]
  },
  {
   "cell_type": "code",
   "execution_count": 77,
   "id": "1e9fd99a-26fd-47e6-bc70-7a871e02558b",
   "metadata": {},
   "outputs": [
    {
     "name": "stdout",
     "output_type": "stream",
     "text": [
      "along rows :  [[1 2]\n",
      " [3 4]\n",
      " [5 6]\n",
      " [7 8]]\n",
      "along column:  [[1 2 5 6]\n",
      " [3 4 7 8]]\n"
     ]
    }
   ],
   "source": [
    "array1 = np.array([[1,2] , [3,4]])\n",
    "array2 = np.array([[5,6] , [7,8]])\n",
    "\n",
    "xaxis = np.concatenate((array1 , array2), axis =0)\n",
    "\n",
    "print(\"along rows : \" ,xaxis)\n",
    "\n",
    "yaxis = np.concatenate((array1 , array2) , axis = 1)\n",
    "\n",
    "print(\"along column: \" , yaxis)"
   ]
  },
  {
   "cell_type": "markdown",
   "id": "5ea51315-0ab7-49e5-be3c-cbe0d2bed4a9",
   "metadata": {},
   "source": [
    "### Q.NO.49"
   ]
  },
  {
   "cell_type": "raw",
   "id": "1ea03615-b800-4ecf-a946-aa5bc7c8c3d6",
   "metadata": {},
   "source": [
    "Create a function that splits an array into multiple sub-arrays along a specified axis.\n",
    "original_array = np.array([[l,\t2, 3],  [4, 5, 6],  [7, 8, 9]])\n"
   ]
  },
  {
   "cell_type": "code",
   "execution_count": 78,
   "id": "b20d4070-2377-4042-9cb8-12f44cb7e7ef",
   "metadata": {},
   "outputs": [
    {
     "name": "stdout",
     "output_type": "stream",
     "text": [
      "splitting along rows : \n",
      "[[1 2 3]]\n",
      "[[4 5 6]]\n",
      "[[7 8 9]]\n",
      "splitting along columns: \n",
      "[[1]\n",
      " [4]\n",
      " [7]]\n",
      "[[2]\n",
      " [5]\n",
      " [8]]\n",
      "[[3]\n",
      " [6]\n",
      " [9]]\n"
     ]
    }
   ],
   "source": [
    "original_array = np.array([[1, 2 , 3] , [4 , 5 , 6 ] , [ 7 , 8 , 9]])\n",
    "\n",
    "xaxis_split = np.split(original_array , 3 , axis =0)\n",
    "\n",
    "print(\"splitting along rows : \")\n",
    "for subarray in xaxis_split:   \n",
    "    print(subarray)\n",
    "\n",
    "yaxis_split =np.split(original_array , 3 , axis =1)\n",
    "\n",
    "print(\"splitting along columns: \")\n",
    "for subarray1 in yaxis_split:\n",
    "    print(subarray1)"
   ]
  },
  {
   "cell_type": "markdown",
   "id": "bc92b511-3e00-4f58-a8c2-c0dd5e85e176",
   "metadata": {},
   "source": [
    "### Q.NO.50"
   ]
  },
  {
   "cell_type": "raw",
   "id": "ba5895f3-04b8-44e8-b88d-8fa817f19de0",
   "metadata": {},
   "source": [
    "Write a function that inserts and then deletes elements from a given array at specified indices."
   ]
  },
  {
   "cell_type": "code",
   "execution_count": 79,
   "id": "6619e4ee-bc96-42bf-a1e8-ec22937fca73",
   "metadata": {},
   "outputs": [
    {
     "data": {
      "text/plain": [
       "array([ 1,  2, 10,  3,  4, 11,  5])"
      ]
     },
     "execution_count": 79,
     "metadata": {},
     "output_type": "execute_result"
    }
   ],
   "source": [
    "original_array = np.array([1,2,3,4,5])\n",
    "\n",
    "indices_to_insert = [2,4]\n",
    "\n",
    "values_to_insert = [10 , 11]\n",
    "\n",
    "indices_to_delete = [1,3]\n",
    "\n",
    "## inserted the elements [10,11] at the indices [2,4]\n",
    "new_array = np.insert(original_array , indices_to_insert , values_to_insert)\n",
    "new_array   "
   ]
  },
  {
   "cell_type": "code",
   "execution_count": 80,
   "id": "e11f2b41-8c36-41d3-9fc6-2bfbf5d65d8b",
   "metadata": {},
   "outputs": [
    {
     "data": {
      "text/plain": [
       "array([ 1, 10,  4, 11,  5])"
      ]
     },
     "execution_count": 80,
     "metadata": {},
     "output_type": "execute_result"
    }
   ],
   "source": [
    "np.delete(new_array , indices_to_delete)   ## deleted the elements on the indices [1,3]"
   ]
  },
  {
   "cell_type": "markdown",
   "id": "49d7769d-356c-4739-9549-af2d48d71c01",
   "metadata": {},
   "source": [
    "### Q.NO.51"
   ]
  },
  {
   "cell_type": "raw",
   "id": "eada11f1-3a32-4f9c-aa44-1e000b133c6e",
   "metadata": {},
   "source": [
    "Create a NumPy array 'arr1' with random inetgers and another array 'arr2' with integers from 1 to 10. Perform element wise addition between arr1 and arr2."
   ]
  },
  {
   "cell_type": "code",
   "execution_count": 81,
   "id": "73462227-c52b-4e70-8fd5-92d5ed7600c8",
   "metadata": {},
   "outputs": [
    {
     "name": "stdout",
     "output_type": "stream",
     "text": [
      " array1 is :  [15 10  1  1  1 13 12 17 12  4]\n",
      " array2 is :  [ 1  2  3  4  5  6  7  8  9 10]\n",
      "addition :  [16 12  4  5  6 19 19 25 21 14]\n"
     ]
    }
   ],
   "source": [
    "arr1 = np.random.randint(1,20 ,10)\n",
    "arr2 = np.arange(1,11)\n",
    "\n",
    "print(\" array1 is : \" , arr1)\n",
    "print(\" array2 is : \" , arr2)\n",
    "\n",
    "print(\"addition : \" , arr1 + arr2)"
   ]
  },
  {
   "cell_type": "markdown",
   "id": "51eb9dbd-bbfc-43c3-9c21-6e509a7dfb69",
   "metadata": {},
   "source": [
    "### Q.NO.52"
   ]
  },
  {
   "cell_type": "raw",
   "id": "288aae59-b754-41da-8aa8-2bb8ef3f0a4e",
   "metadata": {},
   "source": [
    "Generate a NumPy array arr1 with sequential integer from 10 to 1 and from another array arr2 with integers from 1 to 10.Perform element wise addition between arr1 and arr2."
   ]
  },
  {
   "cell_type": "code",
   "execution_count": 82,
   "id": "66c80aed-86ce-48c4-bfa5-f46531782a10",
   "metadata": {},
   "outputs": [
    {
     "name": "stdout",
     "output_type": "stream",
     "text": [
      " array1 is :  [10  9  8  7  6  5  4  3  2  1]\n",
      " array2 is :  [ 1  2  3  4  5  6  7  8  9 10]\n"
     ]
    },
    {
     "data": {
      "text/plain": [
       "array([ 9,  7,  5,  3,  1, -1, -3, -5, -7, -9])"
      ]
     },
     "execution_count": 82,
     "metadata": {},
     "output_type": "execute_result"
    }
   ],
   "source": [
    "arr1 = np.arange(10 , 0 ,-1)\n",
    "arr2 = arr1[::-1]                  ##reversed the arr1 to get arr2\n",
    "\n",
    "print(\" array1 is : \" , arr1)\n",
    "print(\" array2 is : \" , arr2)\n",
    "\n",
    "arr1 - arr2  ## subtracting arr2 from arr1"
   ]
  },
  {
   "cell_type": "markdown",
   "id": "a6297f91-d683-46ce-8ce5-d5a123541b26",
   "metadata": {},
   "source": [
    "### Q.NO.53"
   ]
  },
  {
   "cell_type": "raw",
   "id": "924881ff-9a3c-4e6f-ab5e-8d51b33f4a5d",
   "metadata": {},
   "source": [
    "Create a NumPy array arr1 with random integers and another array arr2 with integers from 1 to 5. Perform element wise multiplication between arr1 and arr2"
   ]
  },
  {
   "cell_type": "code",
   "execution_count": 83,
   "id": "563bdfa9-4657-4980-a6fe-81b239569b09",
   "metadata": {},
   "outputs": [
    {
     "name": "stdout",
     "output_type": "stream",
     "text": [
      "array 1 is :  [[7 4 4 6 7]]\n",
      "array 2 is :  [1 2 3 4 5]\n"
     ]
    },
    {
     "data": {
      "text/plain": [
       "array([[ 7,  8, 12, 24, 35]])"
      ]
     },
     "execution_count": 83,
     "metadata": {},
     "output_type": "execute_result"
    }
   ],
   "source": [
    "arr1 = np.random.randint(2,9 ,(1,5))\n",
    "arr2 = np.arange(1,6)\n",
    "\n",
    "print(\"array 1 is : \", arr1)\n",
    "print(\"array 2 is : \", arr2)\n",
    "\n",
    "arr1 * arr2  ## multiplication of arrays\n"
   ]
  },
  {
   "cell_type": "markdown",
   "id": "969658fa-1caf-4e1e-91d7-970f0a457f14",
   "metadata": {},
   "source": [
    "### Q.NO.54"
   ]
  },
  {
   "cell_type": "raw",
   "id": "2f3234c6-bfbd-4f87-840d-c13cc72d7d1b",
   "metadata": {},
   "source": [
    "Generate a NumPy array 'arr1' with even integers from 2 to 10 and another array 'arr2' with integers from 1 to 5.Perform element-wise division of 'arr1' by'arr2'."
   ]
  },
  {
   "cell_type": "code",
   "execution_count": 84,
   "id": "304cd078-ff2e-44bd-8e84-76d7a837b41c",
   "metadata": {},
   "outputs": [
    {
     "name": "stdout",
     "output_type": "stream",
     "text": [
      "array 1 is : [ 2  4  6  8 10]\n",
      "array 2 is :  [1 2 3 4 5]\n"
     ]
    }
   ],
   "source": [
    "arr1 = np.arange(2,12,2)\n",
    "arr2 = np.arange(1,6)\n",
    "print(\"array 1 is :\" ,arr1)\n",
    "print(\"array 2 is : \" ,arr2)"
   ]
  },
  {
   "cell_type": "code",
   "execution_count": 85,
   "id": "f90340ed-ee85-4a4e-acb4-7961fe1f84ac",
   "metadata": {},
   "outputs": [
    {
     "data": {
      "text/plain": [
       "array([2., 2., 2., 2., 2.])"
      ]
     },
     "execution_count": 85,
     "metadata": {},
     "output_type": "execute_result"
    }
   ],
   "source": [
    "arr1 / arr2"
   ]
  },
  {
   "cell_type": "markdown",
   "id": "ec72431f-d858-47bd-8d1d-5ae986b074e7",
   "metadata": {},
   "source": [
    "### Q.NO.55"
   ]
  },
  {
   "cell_type": "raw",
   "id": "1f851f42-d9fc-4738-8bef-28214d41f11e",
   "metadata": {},
   "source": [
    "Create a NumPy array 'arr1' with integers from1to 5 and another array 'arr2' with the same numbers reversed. Calculate the exponentiation of 'arr1' raised to the power of 'arr2' element-wise"
   ]
  },
  {
   "cell_type": "code",
   "execution_count": 86,
   "id": "61f26c54-93fe-4eae-8f8c-96c16b26ff6f",
   "metadata": {},
   "outputs": [
    {
     "data": {
      "text/plain": [
       "array([ 1, 16, 27, 16,  5])"
      ]
     },
     "execution_count": 86,
     "metadata": {},
     "output_type": "execute_result"
    }
   ],
   "source": [
    "arr1 = np.array([ 1 , 2 , 3 , 4 , 5 ])\n",
    "arr2 = arr1[::-1]  ## reversing the arr1 \n",
    "\n",
    "np.power(arr1 , arr2)  ## element wise exponentiation"
   ]
  },
  {
   "cell_type": "markdown",
   "id": "6df74637-ed48-4e5e-82d5-39f600daa9b3",
   "metadata": {},
   "source": [
    "### Q.NO.56"
   ]
  },
  {
   "cell_type": "raw",
   "id": "428d128b-ba77-4b8e-b807-7d64842bceb0",
   "metadata": {},
   "source": [
    "Write a function that counts the occurrences of a specific substring within a NumPy array of strings.\n",
    "\n",
    "arr=  np.array(['hello',\t'world',\t'hello',\t'numpy',\t'hello'])\n"
   ]
  },
  {
   "cell_type": "code",
   "execution_count": 87,
   "id": "982cd4b0-fbf1-4612-9fbe-1b0a997e231c",
   "metadata": {},
   "outputs": [
    {
     "name": "stdout",
     "output_type": "stream",
     "text": [
      "The count of occurances of substring is:  3\n"
     ]
    }
   ],
   "source": [
    "arr = np.array(['hello' , 'world' , 'hello' , 'numpy' , 'hello'])\n",
    "\n",
    "substring = 'hello'\n",
    "\n",
    "count = 0\n",
    "\n",
    "for i in arr:\n",
    "    if i in substring:\n",
    "        count += 1\n",
    "    \n",
    "print(\"The count of occurances of substring is: \", count )"
   ]
  },
  {
   "cell_type": "markdown",
   "id": "83ba4497-95a2-449a-b087-7d1bb45ea3cb",
   "metadata": {},
   "source": [
    "### Q.NO.57"
   ]
  },
  {
   "cell_type": "raw",
   "id": "601871f9-6669-4d1d-a5cd-ef8aebba485f",
   "metadata": {},
   "source": [
    "Write a function that extracts uppercase characters from a NumPy array of strings. \n",
    "\n",
    "arr=  np.array(['Hello',\t'World',\t'OpenAI',\t'GPT'])\n"
   ]
  },
  {
   "cell_type": "code",
   "execution_count": 88,
   "id": "2622f978-bc7a-446e-94aa-d354f0048762",
   "metadata": {},
   "outputs": [
    {
     "data": {
      "text/plain": [
       "array(['Hello', 'World', 'OpenAI', 'GPT'], dtype='<U6')"
      ]
     },
     "execution_count": 88,
     "metadata": {},
     "output_type": "execute_result"
    }
   ],
   "source": [
    "arr = np.array(['Hello' , 'World' , 'OpenAI' , 'GPT'])\n",
    "arr"
   ]
  },
  {
   "cell_type": "code",
   "execution_count": 89,
   "id": "dce03ac0-f5ed-4b54-a540-f605f7c2bc6d",
   "metadata": {},
   "outputs": [
    {
     "data": {
      "text/plain": [
       "array(['H', 'W', 'O', 'A', 'I', 'G', 'P', 'T'], dtype='<U1')"
      ]
     },
     "execution_count": 89,
     "metadata": {},
     "output_type": "execute_result"
    }
   ],
   "source": [
    "np.array([char for s in arr for char in s if char.isupper()])"
   ]
  },
  {
   "cell_type": "markdown",
   "id": "0498347d-92b9-42f2-a9db-59af846c8fec",
   "metadata": {},
   "source": [
    "### Q.NO.58"
   ]
  },
  {
   "cell_type": "raw",
   "id": "95ef8459-8961-45fe-a2c5-28a3b2e6913c",
   "metadata": {},
   "source": [
    "Write a function that replaces occurrences of a substring in a NumPy array of strings with a newstring.\n",
    "\n",
    "arr\t= np. array ( ['apple',\t'banana',\t'grape' ,\t'pineapple'])\n"
   ]
  },
  {
   "cell_type": "code",
   "execution_count": 90,
   "id": "f27ab334-adc6-4848-a8f7-25fed60e76f5",
   "metadata": {},
   "outputs": [
    {
     "name": "stdout",
     "output_type": "stream",
     "text": [
      "['pear' 'banana' 'grape' 'pinepear']\n"
     ]
    }
   ],
   "source": [
    "arr = np.array(['apple' , 'banana' , 'grape' , 'pineapple'])\n",
    "substring = 'apple'\n",
    "replacement = 'pear'\n",
    "\n",
    "arr1 = np.char.replace(arr , substring , replacement)\n",
    "    \n",
    "print(arr1)  ## replaced apple with pear\n"
   ]
  },
  {
   "cell_type": "markdown",
   "id": "c1ef2248-bcd8-4cb4-93b5-c4c9331417b6",
   "metadata": {},
   "source": [
    "### Q.No.59"
   ]
  },
  {
   "cell_type": "raw",
   "id": "2daea5ab-2bac-4fbb-bb60-2e6bc58f9347",
   "metadata": {},
   "source": [
    "Write a function that concatenates strings in a NumPy array element-wise.\n",
    "\n",
    "arrl  =  np.array(['Hello',\t'World'])\n",
    "arr2 = np. array ( ['Open',\t'AI'])\n"
   ]
  },
  {
   "cell_type": "code",
   "execution_count": 91,
   "id": "4111f7bb-0dab-4de6-bbdd-590fdee0606a",
   "metadata": {},
   "outputs": [],
   "source": [
    "arr1 = np.array(['Hello' , 'World'])\n",
    "arr2 = np.array(['Opem' , 'AI'])"
   ]
  },
  {
   "cell_type": "code",
   "execution_count": 92,
   "id": "1b531a8a-2e7b-4385-8178-687b19a3b5bb",
   "metadata": {},
   "outputs": [
    {
     "data": {
      "text/plain": [
       "array(['Hello', 'World', 'Opem', 'AI'], dtype='<U5')"
      ]
     },
     "execution_count": 92,
     "metadata": {},
     "output_type": "execute_result"
    }
   ],
   "source": [
    "np.concatenate((arr1,arr2))  ## concatenate function concatenates two arrays "
   ]
  },
  {
   "cell_type": "markdown",
   "id": "f09da17b-275a-43b1-837d-dd6fcb768631",
   "metadata": {},
   "source": [
    "### Q.NO.60"
   ]
  },
  {
   "cell_type": "raw",
   "id": "e7c36072-44d1-4bff-84a1-1d2eb01da5aa",
   "metadata": {},
   "source": [
    "Write a function that finds the length of the longest string in a NumPy array. arr= np.array{['apple', 'banana', 'grape', 'pineapple'])\n",
    "arr\t= np. array ( ['apple',\t'banana' ,\t'grape' ,\t'pineapple'])\n"
   ]
  },
  {
   "cell_type": "code",
   "execution_count": 93,
   "id": "5fa01962-d247-4288-8475-c546e799bc42",
   "metadata": {},
   "outputs": [
    {
     "data": {
      "text/plain": [
       "array(['apple', 'banana', 'grape', 'pineapple'], dtype='<U9')"
      ]
     },
     "execution_count": 93,
     "metadata": {},
     "output_type": "execute_result"
    }
   ],
   "source": [
    "arr = np.array(['apple' , 'banana' , 'grape' , 'pineapple'])\n",
    "arr"
   ]
  },
  {
   "cell_type": "code",
   "execution_count": 94,
   "id": "8b858026-163f-46d5-b3ed-63e152c951db",
   "metadata": {},
   "outputs": [
    {
     "data": {
      "text/plain": [
       "['pineapple']"
      ]
     },
     "execution_count": 94,
     "metadata": {},
     "output_type": "execute_result"
    }
   ],
   "source": [
    "def longest_string(arr):\n",
    "    max_length = max(len(i) for i in arr)  # first we will find the maximum length in the array\n",
    "    longest_strings = [i for i in arr if len(i) == max_length]  # Find strings with maximum length\n",
    "    return longest_strings\n",
    "longest_string(arr)"
   ]
  },
  {
   "cell_type": "markdown",
   "id": "3aff758f-188b-47d1-8a86-3e7a5d52c25e",
   "metadata": {},
   "source": [
    "### Q.NO.61"
   ]
  },
  {
   "cell_type": "raw",
   "id": "c39a1106-17b5-430b-a79d-28e1239e2b31",
   "metadata": {},
   "source": [
    "Create a dataset of 100 random integers between 1and 1000. Compute the mean, median, variance, and standard deviation of the dataset using NumPy's functions."
   ]
  },
  {
   "cell_type": "code",
   "execution_count": 98,
   "id": "b7f860b8-7a47-4f1f-b710-b8b40959b2f6",
   "metadata": {},
   "outputs": [
    {
     "data": {
      "text/plain": [
       "array([ 29,  33,  42,  66,  76,  84,  93, 100, 109, 125, 139, 152, 153,\n",
       "       156, 185, 197, 212, 213, 214, 221, 233, 234, 236, 276, 280, 290,\n",
       "       303, 313, 315, 348, 371, 375, 377, 394, 401, 404, 406, 411, 423,\n",
       "       431, 434, 457, 466, 478, 494, 496, 498, 498, 504, 506, 519, 534,\n",
       "       535, 549, 552, 554, 567, 570, 571, 582, 617, 634, 639, 658, 659,\n",
       "       664, 673, 695, 701, 719, 732, 742, 752, 756, 760, 779, 780, 787,\n",
       "       790, 806, 817, 819, 828, 832, 853, 855, 856, 859, 871, 874, 882,\n",
       "       886, 888, 902, 905, 917, 919, 929, 968, 974])"
      ]
     },
     "execution_count": 98,
     "metadata": {},
     "output_type": "execute_result"
    }
   ],
   "source": [
    "dataset = np.random.randint(1,1000 , size =100)\n",
    "data = np.sort(dataset)\n",
    "data"
   ]
  },
  {
   "cell_type": "code",
   "execution_count": 104,
   "id": "e9d9ad46-f5b6-4f94-8282-336f481fbd4b",
   "metadata": {},
   "outputs": [
    {
     "data": {
      "text/plain": [
       "517.61"
      ]
     },
     "execution_count": 104,
     "metadata": {},
     "output_type": "execute_result"
    }
   ],
   "source": [
    "np.mean(data) ## mean of the array having 100 random integers"
   ]
  },
  {
   "cell_type": "code",
   "execution_count": 105,
   "id": "32df4be3-4d9e-4853-8ed9-ae484b6cbd1b",
   "metadata": {},
   "outputs": [
    {
     "data": {
      "text/plain": [
       "512.5"
      ]
     },
     "execution_count": 105,
     "metadata": {},
     "output_type": "execute_result"
    }
   ],
   "source": [
    "np.median(data)  ## median of array "
   ]
  },
  {
   "cell_type": "code",
   "execution_count": 106,
   "id": "59b549f0-5567-4204-801a-29270e6e790c",
   "metadata": {},
   "outputs": [
    {
     "data": {
      "text/plain": [
       "73775.79789999999"
      ]
     },
     "execution_count": 106,
     "metadata": {},
     "output_type": "execute_result"
    }
   ],
   "source": [
    "np.var(data)  ## gives variance of array"
   ]
  },
  {
   "cell_type": "code",
   "execution_count": 107,
   "id": "fed9a6ec-5efe-4173-a037-7589ca4532c2",
   "metadata": {},
   "outputs": [
    {
     "data": {
      "text/plain": [
       "271.6170059108965"
      ]
     },
     "execution_count": 107,
     "metadata": {},
     "output_type": "execute_result"
    }
   ],
   "source": [
    "np.std(data)      ## gives standard deviation"
   ]
  },
  {
   "cell_type": "markdown",
   "id": "effaae95-522c-4787-8da3-2de533c0a315",
   "metadata": {},
   "source": [
    "### Q.NO.62"
   ]
  },
  {
   "cell_type": "raw",
   "id": "7268850a-ecca-4bc0-aaeb-cc64a628614e",
   "metadata": {},
   "source": [
    "Generate an array of 50 random numbers between 1and 100. Find the 25th and 75th percentiles of the\n",
    "dataset.\n"
   ]
  },
  {
   "cell_type": "code",
   "execution_count": 103,
   "id": "cea16eba-7e4e-4008-b963-ada2eacc843d",
   "metadata": {},
   "outputs": [
    {
     "data": {
      "text/plain": [
       "array([ 3,  4,  8,  9, 10, 12, 13, 14, 17, 18, 19, 19, 25, 25, 28, 30, 31,\n",
       "       32, 33, 36, 36, 36, 37, 37, 37, 38, 38, 39, 42, 47, 47, 48, 48, 54,\n",
       "       63, 63, 69, 70, 73, 73, 77, 79, 79, 83, 84, 85, 86, 86, 89, 93])"
      ]
     },
     "execution_count": 103,
     "metadata": {},
     "output_type": "execute_result"
    }
   ],
   "source": [
    "arr = np.random.randint(1,101 , size = 50)\n",
    "arr1 = np.sort(arr)\n",
    "arr1"
   ]
  },
  {
   "cell_type": "code",
   "execution_count": 108,
   "id": "d7cc2f6a-78e3-4263-8a14-84c56d3b46f4",
   "metadata": {},
   "outputs": [
    {
     "data": {
      "text/plain": [
       "25.0"
      ]
     },
     "execution_count": 108,
     "metadata": {},
     "output_type": "execute_result"
    }
   ],
   "source": [
    "percentile_25th = np.percentile(arr1 , 25)  ## gives the percentile\n",
    "percentile_25th"
   ]
  },
  {
   "cell_type": "code",
   "execution_count": 109,
   "id": "d63f9d76-e469-46c4-b454-6e4bf0005414",
   "metadata": {},
   "outputs": [
    {
     "data": {
      "text/plain": [
       "69.75"
      ]
     },
     "execution_count": 109,
     "metadata": {},
     "output_type": "execute_result"
    }
   ],
   "source": [
    "percentile_75th = np.percentile(arr1 , 75)\n",
    "percentile_75th"
   ]
  },
  {
   "cell_type": "markdown",
   "id": "5a8d943f-b08a-41b2-9bd9-0b877bac5d19",
   "metadata": {},
   "source": [
    "### Q.NO.63"
   ]
  },
  {
   "cell_type": "raw",
   "id": "86623e24-7bdb-4c24-88f9-55cb90bbc7b7",
   "metadata": {},
   "source": [
    "Create two arrays representing two sets of variables . Compute the correlation coefficient between these arrays using NumPy's corrcoef function."
   ]
  },
  {
   "cell_type": "code",
   "execution_count": 110,
   "id": "cb24fc77-2f2d-41a1-b0ab-815033be4244",
   "metadata": {},
   "outputs": [],
   "source": [
    "arr1 = np.array([1, 2, 3, 4, 5])\n",
    "arr2 = np.array([15, 20, 36, 40, 55])"
   ]
  },
  {
   "cell_type": "code",
   "execution_count": 111,
   "id": "def76aa4-b22b-43d5-a919-330b061d0abe",
   "metadata": {},
   "outputs": [
    {
     "data": {
      "text/plain": [
       "array([1, 2, 3, 4, 5])"
      ]
     },
     "execution_count": 111,
     "metadata": {},
     "output_type": "execute_result"
    }
   ],
   "source": [
    "arr1"
   ]
  },
  {
   "cell_type": "code",
   "execution_count": 112,
   "id": "ea14f715-313f-47a4-a828-a56bce641771",
   "metadata": {},
   "outputs": [
    {
     "data": {
      "text/plain": [
       "array([15, 20, 36, 40, 55])"
      ]
     },
     "execution_count": 112,
     "metadata": {},
     "output_type": "execute_result"
    }
   ],
   "source": [
    "arr2"
   ]
  },
  {
   "cell_type": "code",
   "execution_count": 113,
   "id": "b1d5bac0-f791-4606-9732-e1c97a928610",
   "metadata": {},
   "outputs": [
    {
     "data": {
      "text/plain": [
       "array([[1.        , 0.98304136],\n",
       "       [0.98304136, 1.        ]])"
      ]
     },
     "execution_count": 113,
     "metadata": {},
     "output_type": "execute_result"
    }
   ],
   "source": [
    "np.corrcoef(arr1, arr2)  ## np.corrcoef gives the correlational coeeficient of arrays"
   ]
  },
  {
   "cell_type": "markdown",
   "id": "21f1131b-21da-499a-8b5a-674c47974850",
   "metadata": {},
   "source": [
    "### Q.NO.64"
   ]
  },
  {
   "cell_type": "raw",
   "id": "0a326144-82ec-476c-89c2-de6f5f075730",
   "metadata": {},
   "source": [
    "Create two matrices and perform matrix multiplication using NumPy's dot function"
   ]
  },
  {
   "cell_type": "code",
   "execution_count": 114,
   "id": "4a451030-8d87-4e82-89f3-2935fed570f4",
   "metadata": {},
   "outputs": [
    {
     "data": {
      "text/plain": [
       "array([[3, 4, 5],\n",
       "       [2, 5, 3]])"
      ]
     },
     "execution_count": 114,
     "metadata": {},
     "output_type": "execute_result"
    }
   ],
   "source": [
    "mat1 = np.random.randint(1,6,(2,3))\n",
    "mat2 = np.random.randint(1,6,(3,4))\n",
    "\n",
    "mat1"
   ]
  },
  {
   "cell_type": "code",
   "execution_count": 115,
   "id": "c59e44cd-acbc-45a4-b06e-153b4ae9f5a5",
   "metadata": {},
   "outputs": [
    {
     "data": {
      "text/plain": [
       "array([[1, 3, 5, 5],\n",
       "       [4, 3, 3, 2],\n",
       "       [4, 4, 4, 2]])"
      ]
     },
     "execution_count": 115,
     "metadata": {},
     "output_type": "execute_result"
    }
   ],
   "source": [
    "mat2"
   ]
  },
  {
   "cell_type": "code",
   "execution_count": 116,
   "id": "cc7e9f54-f3c8-4825-b1f7-2869ba550d06",
   "metadata": {},
   "outputs": [
    {
     "data": {
      "text/plain": [
       "array([[39, 41, 47, 33],\n",
       "       [34, 33, 37, 26]])"
      ]
     },
     "execution_count": 116,
     "metadata": {},
     "output_type": "execute_result"
    }
   ],
   "source": [
    "np.dot(mat1 , mat2)"
   ]
  },
  {
   "cell_type": "markdown",
   "id": "4c024884-6e38-4e81-8c66-404e082c5b66",
   "metadata": {},
   "source": [
    "### Q.No.65"
   ]
  },
  {
   "cell_type": "raw",
   "id": "c8d678ed-98f6-4b8c-8daf-a24d9ba50550",
   "metadata": {},
   "source": [
    "Create an array of 50 integrs between 10 and 1000. calculate the 10th , 50th(median) and 90th percentiles along with the first and third quartiles"
   ]
  },
  {
   "cell_type": "code",
   "execution_count": 117,
   "id": "84d14007-92d5-4d62-8400-feaa8f761cc4",
   "metadata": {},
   "outputs": [
    {
     "name": "stdout",
     "output_type": "stream",
     "text": [
      "array is : [173 505 873 667 541 929 367 683 208 475 795 458 290 166 585 707 807 269\n",
      " 865 281 849 920  10 550 822 886 924 630 271 560 262 563 394 532 394  21\n",
      " 600 394 847 365 528 461 754 257 996 494 445 260 855  77]\n",
      "sorted array is :  [ 10  21  77 166 173 208 257 260 262 269 271 281 290 365 367 394 394 394\n",
      " 445 458 461 475 494 505 528 532 541 550 560 563 585 600 630 667 683 707\n",
      " 754 795 807 822 847 849 855 865 873 886 920 924 929 996]\n"
     ]
    }
   ],
   "source": [
    "arr = np.random.randint(10,1000 , size = 50)\n",
    "print(\"array is :\" ,arr)\n",
    "      \n",
    "      \n",
    "arr1 = np.sort(arr)\n",
    "\n",
    "\n",
    "print (\"sorted array is : \",arr1)"
   ]
  },
  {
   "cell_type": "code",
   "execution_count": 118,
   "id": "602f5613-ffa5-4509-b3e2-f811c57b89c6",
   "metadata": {},
   "outputs": [
    {
     "data": {
      "text/plain": [
       "array([204.5, 530. , 874.3])"
      ]
     },
     "execution_count": 118,
     "metadata": {},
     "output_type": "execute_result"
    }
   ],
   "source": [
    "percentiles = np.percentile(arr, [10, 50, 90])\n",
    "percentiles"
   ]
  },
  {
   "cell_type": "code",
   "execution_count": 119,
   "id": "fa36dc71-766d-46c4-8dc4-5787113934d1",
   "metadata": {},
   "outputs": [
    {
     "data": {
      "text/plain": [
       "308.75"
      ]
     },
     "execution_count": 119,
     "metadata": {},
     "output_type": "execute_result"
    }
   ],
   "source": [
    "frst_quartile = np.percentile(arr , 25)\n",
    "frst_quartile"
   ]
  },
  {
   "cell_type": "code",
   "execution_count": 120,
   "id": "18b0fe34-821e-4394-99a0-3bee7ea3a37b",
   "metadata": {},
   "outputs": [
    {
     "data": {
      "text/plain": [
       "784.75"
      ]
     },
     "execution_count": 120,
     "metadata": {},
     "output_type": "execute_result"
    }
   ],
   "source": [
    "third_quartile = np.percentile(arr , 75)\n",
    "third_quartile"
   ]
  },
  {
   "cell_type": "markdown",
   "id": "d7a00f27-2a26-471d-aca1-b5e93796834f",
   "metadata": {},
   "source": [
    "### Q.No.66"
   ]
  },
  {
   "cell_type": "raw",
   "id": "013da9d0-d353-47f1-bb54-13f9d79c5c8c",
   "metadata": {},
   "source": [
    "Create a NumPy array of integers and find the index of a specific element."
   ]
  },
  {
   "cell_type": "code",
   "execution_count": 121,
   "id": "1473f7d5-dfc2-484c-a14a-60cafd5b9c3c",
   "metadata": {},
   "outputs": [
    {
     "data": {
      "text/plain": [
       "array([ 1,  2, 34,  5,  6, 78, 94])"
      ]
     },
     "execution_count": 121,
     "metadata": {},
     "output_type": "execute_result"
    }
   ],
   "source": [
    "arr = np.array([ 1 , 2 , 34 , 5 , 6 , 78 , 94])\n",
    "arr"
   ]
  },
  {
   "cell_type": "code",
   "execution_count": 122,
   "id": "9b315938-c9a1-43d4-8e15-a933df343e2c",
   "metadata": {},
   "outputs": [
    {
     "data": {
      "text/plain": [
       "(array([5]),)"
      ]
     },
     "execution_count": 122,
     "metadata": {},
     "output_type": "execute_result"
    }
   ],
   "source": [
    "np.where(arr==78)## .where is used to get the element index where the condition satisfies"
   ]
  },
  {
   "cell_type": "markdown",
   "id": "5eccbc0f-45f6-4242-99d4-8f09350425de",
   "metadata": {},
   "source": [
    "### Q.NO.67"
   ]
  },
  {
   "cell_type": "raw",
   "id": "2fd10090-b290-4ca7-b14b-e3b77c54f854",
   "metadata": {},
   "source": [
    "Generate a random NumPy array and sort it in ascending order."
   ]
  },
  {
   "cell_type": "code",
   "execution_count": 123,
   "id": "41d4a43e-fdee-427b-9f7c-5d675fe8df25",
   "metadata": {},
   "outputs": [
    {
     "data": {
      "text/plain": [
       "array([[2, 4, 4, 4, 2]])"
      ]
     },
     "execution_count": 123,
     "metadata": {},
     "output_type": "execute_result"
    }
   ],
   "source": [
    "arr = np.random.randint(2,9 , (1,5))\n",
    "arr"
   ]
  },
  {
   "cell_type": "code",
   "execution_count": 124,
   "id": "74cc3849-00f2-46c0-b6b4-90b6b5673bfb",
   "metadata": {},
   "outputs": [
    {
     "data": {
      "text/plain": [
       "array([[2, 2, 4, 4, 4]])"
      ]
     },
     "execution_count": 124,
     "metadata": {},
     "output_type": "execute_result"
    }
   ],
   "source": [
    "sorted_array = np.sort(arr)\n",
    "sorted_array                ## sorted array in ascending order"
   ]
  },
  {
   "cell_type": "markdown",
   "id": "52129650-c51c-48bd-89db-27f2af71ec67",
   "metadata": {},
   "source": [
    "### Q.No.68"
   ]
  },
  {
   "cell_type": "raw",
   "id": "021f3a63-9dbf-4e3c-b37a-1ff9f658858b",
   "metadata": {},
   "source": [
    "Filter elements >20 in the given NumPy array.\n",
    "\n",
    "arr=  np.array([12,\t25, 6, 42, 8,\t30])\n"
   ]
  },
  {
   "cell_type": "code",
   "execution_count": 125,
   "id": "4c06a2f1-9ef8-4888-a75a-43482f61b056",
   "metadata": {},
   "outputs": [
    {
     "data": {
      "text/plain": [
       "array([25, 42, 30])"
      ]
     },
     "execution_count": 125,
     "metadata": {},
     "output_type": "execute_result"
    }
   ],
   "source": [
    "arr = np.array([ 12 , 25 , 6 , 42 , 8 , 30 ])\n",
    "\n",
    "greater_20 = arr[arr>20]   ## filtered the elements greater than 20\n",
    "\n",
    "greater_20"
   ]
  },
  {
   "cell_type": "markdown",
   "id": "c2c5606c-ce82-4326-aa0f-16652a4b4117",
   "metadata": {},
   "source": [
    "### Q.No.69"
   ]
  },
  {
   "cell_type": "raw",
   "id": "4154a52d-8797-48e9-a500-1e0be4480656",
   "metadata": {},
   "source": [
    "Filter elements which are divisible by 3 from a given NumPy array.\n",
    "arr=  np.array([l,\t5, 8, 12, 15])\n"
   ]
  },
  {
   "cell_type": "code",
   "execution_count": 126,
   "id": "868162b7-b852-4718-856d-9e32b92c6e7e",
   "metadata": {},
   "outputs": [
    {
     "data": {
      "text/plain": [
       "array([12, 15])"
      ]
     },
     "execution_count": 126,
     "metadata": {},
     "output_type": "execute_result"
    }
   ],
   "source": [
    "arr = np.array ([ 1 , 5 , 8 , 12 , 15 ])\n",
    "\n",
    "arr1 = arr[arr %3 == 0]   ## here we have used modulo to check the divisibility by 3\n",
    "arr1"
   ]
  },
  {
   "cell_type": "markdown",
   "id": "6a44f8b4-1746-4f07-a84b-b495bc0df44a",
   "metadata": {},
   "source": [
    "### Q.NO.70"
   ]
  },
  {
   "cell_type": "raw",
   "id": "f4bf8704-c2a3-4c2d-ba5d-9b7ac73b3d7a",
   "metadata": {},
   "source": [
    "Filter elements which are i 20 and 1 40 from a given NumPy array.\n",
    "\n",
    "arr=  np.array([10,\t20, 30, Li0, 50])\n"
   ]
  },
  {
   "cell_type": "code",
   "execution_count": 127,
   "id": "e5053489-4dcd-4ac2-9fc6-8b5382153aec",
   "metadata": {},
   "outputs": [
    {
     "data": {
      "text/plain": [
       "array([20, 30, 40, 50])"
      ]
     },
     "execution_count": 127,
     "metadata": {},
     "output_type": "execute_result"
    }
   ],
   "source": [
    "arr = np.array([10,20,30,40,50])\n",
    "\n",
    "more_20 = arr[arr>=20]\n",
    "\n",
    "more_20   ## first we have filter the elements greater than or equal to 20"
   ]
  },
  {
   "cell_type": "code",
   "execution_count": 128,
   "id": "4d21e6e3-c0c8-44e8-9727-d3210e040e24",
   "metadata": {},
   "outputs": [
    {
     "data": {
      "text/plain": [
       "array([20, 30, 40])"
      ]
     },
     "execution_count": 128,
     "metadata": {},
     "output_type": "execute_result"
    }
   ],
   "source": [
    "final = more_20[more_20 <= 40]\n",
    "final   ## final array contains the elements which are greater than or equal to 20 and less than or eqaul to 40"
   ]
  },
  {
   "cell_type": "markdown",
   "id": "52d01655-14a6-4355-b48d-efdeddf7f21b",
   "metadata": {},
   "source": [
    "### Q.NO.71"
   ]
  },
  {
   "cell_type": "raw",
   "id": "388acfe8-18a2-49da-924a-8a9b782849c0",
   "metadata": {},
   "source": [
    "For the given NumPy array, check its byte order using the 'dtype' attribute byteorder.\n",
    "\n",
    "arr=  np.array([l,\t2, 3])\n"
   ]
  },
  {
   "cell_type": "code",
   "execution_count": 129,
   "id": "0325b01a-d9e8-4e25-b668-68dbfb9a9196",
   "metadata": {},
   "outputs": [
    {
     "data": {
      "text/plain": [
       "dtype('int64')"
      ]
     },
     "execution_count": 129,
     "metadata": {},
     "output_type": "execute_result"
    }
   ],
   "source": [
    "arr = np.array([1,2,3])\n",
    "\n",
    "arr.dtype"
   ]
  },
  {
   "cell_type": "markdown",
   "id": "6aa3aec8-8a09-4800-ba9d-6766929d5e2e",
   "metadata": {},
   "source": [
    "### Q.NO. 72"
   ]
  },
  {
   "cell_type": "raw",
   "id": "00ce4dee-8fbf-42ca-b070-b27c319f066e",
   "metadata": {},
   "source": [
    "For the given NumPy array, perform byte swapping in place using 'byteswap()'.\n",
    "\n",
    "arr= np.array([l, 2, 3], dtype=np.int32)\n"
   ]
  },
  {
   "cell_type": "code",
   "execution_count": 130,
   "id": "6577fe66-6a7d-4572-a4c8-d34d2744b0fe",
   "metadata": {},
   "outputs": [
    {
     "data": {
      "text/plain": [
       "array([16777216, 33554432, 50331648], dtype=int32)"
      ]
     },
     "execution_count": 130,
     "metadata": {},
     "output_type": "execute_result"
    }
   ],
   "source": [
    "arr = np.array([1,2,3] , dtype = np.int32)\n",
    "\n",
    "arr.byteswap()\n"
   ]
  },
  {
   "cell_type": "markdown",
   "id": "cbc5e685-d29c-4c69-b6b2-38ce153eda2a",
   "metadata": {},
   "source": [
    "### Q.NO.73"
   ]
  },
  {
   "cell_type": "raw",
   "id": "5f5f2c50-cfcb-43b4-9ffa-b97ecbd259ab",
   "metadata": {},
   "source": [
    "For the given NumPy array, swap its byte order without modifying the original array using 'newbyteorder(}'.\n",
    "arr= np.array([l, 2, 3], dtype=np.int32)\n"
   ]
  },
  {
   "cell_type": "code",
   "execution_count": 131,
   "id": "b63a53ba-064a-4bbc-a016-2966527eff50",
   "metadata": {},
   "outputs": [
    {
     "name": "stdout",
     "output_type": "stream",
     "text": [
      "the original array is :  [1 2 3]\n",
      " the swapped array is :  [16777216 33554432 50331648]\n"
     ]
    }
   ],
   "source": [
    "arr = np.array([1,2,3] , dtype = np.int32)\n",
    "\n",
    "arr1 = arr.newbyteorder()\n",
    "\n",
    "print(\"the original array is : \", arr )\n",
    "print(\" the swapped array is : \" ,arr1)"
   ]
  },
  {
   "cell_type": "markdown",
   "id": "c93ff459-f864-4667-8525-4e64228e6d14",
   "metadata": {},
   "source": [
    "### Q.NO.74"
   ]
  },
  {
   "cell_type": "raw",
   "id": "83d9469e-667b-488e-99bb-6e93c0caab3f",
   "metadata": {},
   "source": [
    "For the given NumPy array and swap its byte order conditionally based on system endianness using 'newbyteorder(}'.\n",
    "arr= np.array([l, 2, 3], dtype=np.int32)\n"
   ]
  },
  {
   "cell_type": "code",
   "execution_count": 132,
   "id": "e3498809-7d0e-486b-a22d-1c96b19d45c9",
   "metadata": {},
   "outputs": [
    {
     "name": "stdout",
     "output_type": "stream",
     "text": [
      "the array after byte swapping is : [1 2 3]\n"
     ]
    }
   ],
   "source": [
    "arr = np.array([1,2,3] , dtype = np.int32)\n",
    "\n",
    "if arr.dtype.byteorder != '=': \n",
    "   \n",
    "    ## swap byte order on based on endianness\n",
    "    arr_swapped = arr.newbyteorder()\n",
    "\n",
    "else:\n",
    "    arr_swapped = arr.copy()\n",
    "\n",
    "print(\"the array after byte swapping is :\",arr_swapped)"
   ]
  },
  {
   "cell_type": "markdown",
   "id": "0b246bda-d3c4-4c4b-8adc-9e6928f2b487",
   "metadata": {},
   "source": [
    "### Q.NO.75"
   ]
  },
  {
   "cell_type": "raw",
   "id": "37574276-159e-4b00-9c41-c1b7041e0bdf",
   "metadata": {},
   "source": [
    "For the given NumPy array, check if byte swapping is necessary for the current system using 'dtype' attribute 'byteorder•.\n",
    "arr= np.array([l, 2, 3], dtype=np.int32)\n"
   ]
  },
  {
   "cell_type": "code",
   "execution_count": 133,
   "id": "8ddc3b20-ad02-4937-86e7-322c851404bb",
   "metadata": {},
   "outputs": [
    {
     "name": "stdout",
     "output_type": "stream",
     "text": [
      "Byte swapping is not necessary for the current system.\n"
     ]
    }
   ],
   "source": [
    "arr = np.array([1, 2, 3], dtype=np.int32)\n",
    "\n",
    "# Check if byte swapping is necessary\n",
    "byte_swapping_needed = arr.dtype.byteorder != '='\n",
    "\n",
    "# if byteorder is != '='\n",
    "if byte_swapping_needed:\n",
    "    print(\"Byte swapping is necessary for the current system.\")\n",
    "# if byteorder is '='\n",
    "else:  \n",
    "    print(\"Byte swapping is not necessary for the current system.\")\n"
   ]
  },
  {
   "cell_type": "markdown",
   "id": "e91fe4a3-78f6-4238-bc98-9f3d53ecd1dc",
   "metadata": {},
   "source": [
    "### Q.NO. 76"
   ]
  },
  {
   "cell_type": "raw",
   "id": "2b467430-0144-430d-84ab-a48ffdd33652",
   "metadata": {},
   "source": [
    "76.\tCreate a NumPy array 'arr1' with values from1 to 10. Create a copy of 'arr1' named 'copy_ arr'\n",
    "and modify an element in 'copy _arr'. Check if modifying 'copy _arr' affect 'arrr."
   ]
  },
  {
   "cell_type": "code",
   "execution_count": 134,
   "id": "97a165cd-24d0-4d3a-9cfd-f5a89506f056",
   "metadata": {},
   "outputs": [
    {
     "data": {
      "text/plain": [
       "array([[3, 5, 5, 5],\n",
       "       [2, 3, 2, 8],\n",
       "       [5, 8, 6, 3]])"
      ]
     },
     "execution_count": 134,
     "metadata": {},
     "output_type": "execute_result"
    }
   ],
   "source": [
    "arr1 = np.random.randint(1,10 ,(3,4))\n",
    "arr1"
   ]
  },
  {
   "cell_type": "code",
   "execution_count": 135,
   "id": "d574635f-10c3-46cc-a0e7-8322e3d3f13d",
   "metadata": {},
   "outputs": [
    {
     "data": {
      "text/plain": [
       "array([[3, 5, 5, 5],\n",
       "       [2, 3, 2, 8],\n",
       "       [5, 8, 6, 3]])"
      ]
     },
     "execution_count": 135,
     "metadata": {},
     "output_type": "execute_result"
    }
   ],
   "source": [
    "copy_arr = arr1.copy()  ## here we have done copy of arr1\n",
    "copy_arr"
   ]
  },
  {
   "cell_type": "code",
   "execution_count": 136,
   "id": "efb1dffc-4201-4567-a656-8fbf3e6227b3",
   "metadata": {},
   "outputs": [
    {
     "data": {
      "text/plain": [
       "array([[3, 5, 5, 5],\n",
       "       [2, 3, 3, 8],\n",
       "       [5, 8, 6, 3]])"
      ]
     },
     "execution_count": 136,
     "metadata": {},
     "output_type": "execute_result"
    }
   ],
   "source": [
    "copy_arr[1][2] = 3   ## we have modified an element in copies array\n",
    "copy_arr"
   ]
  },
  {
   "cell_type": "code",
   "execution_count": 137,
   "id": "b803130f-1492-4638-ac5d-e699755a343d",
   "metadata": {},
   "outputs": [
    {
     "data": {
      "text/plain": [
       "array([[3, 5, 5, 5],\n",
       "       [2, 3, 2, 8],\n",
       "       [5, 8, 6, 3]])"
      ]
     },
     "execution_count": 137,
     "metadata": {},
     "output_type": "execute_result"
    }
   ],
   "source": [
    "arr1                 ## we have noticed that there is no change in the arr1"
   ]
  },
  {
   "cell_type": "markdown",
   "id": "075db729-b380-45db-9f52-0ce065d89293",
   "metadata": {},
   "source": [
    "### Q.NO.77"
   ]
  },
  {
   "cell_type": "raw",
   "id": "a718c847-d453-4cbf-84f4-f74dd0542b73",
   "metadata": {},
   "source": [
    "Create a 2D NumPy array ' matrix' of shape (3,3) with random integrs . Extract a slice 'view_slice'  from the matrix. Modify an element in 'view_slice' and observe if it vhanges the original matrix."
   ]
  },
  {
   "cell_type": "code",
   "execution_count": 138,
   "id": "a8513abb-eb2c-4589-9e7b-ec4ab696a502",
   "metadata": {},
   "outputs": [
    {
     "data": {
      "text/plain": [
       "array([[2, 2, 3],\n",
       "       [1, 1, 4],\n",
       "       [4, 4, 2]])"
      ]
     },
     "execution_count": 138,
     "metadata": {},
     "output_type": "execute_result"
    }
   ],
   "source": [
    "matrix = np.random.randint(1,5,(3,3))    ## creating a random array of shape (3,3)\n",
    "matrix"
   ]
  },
  {
   "cell_type": "code",
   "execution_count": 139,
   "id": "52a045eb-8d6c-40fa-aff3-1bc6dc2fc657",
   "metadata": {},
   "outputs": [
    {
     "data": {
      "text/plain": [
       "2"
      ]
     },
     "execution_count": 139,
     "metadata": {},
     "output_type": "execute_result"
    }
   ],
   "source": [
    "matrix.ndim     ## checking the dimension of matrix"
   ]
  },
  {
   "cell_type": "code",
   "execution_count": 140,
   "id": "087a1b23-ef06-427d-963c-e00beeac2633",
   "metadata": {},
   "outputs": [
    {
     "data": {
      "text/plain": [
       "array([[1, 1],\n",
       "       [4, 4]])"
      ]
     },
     "execution_count": 140,
     "metadata": {},
     "output_type": "execute_result"
    }
   ],
   "source": [
    "view_slice = matrix[1: , :2]     ## slicing the matrix\n",
    "view_slice"
   ]
  },
  {
   "cell_type": "code",
   "execution_count": 141,
   "id": "abb22354-fa4d-4c03-b5f5-9575fb653f57",
   "metadata": {},
   "outputs": [
    {
     "data": {
      "text/plain": [
       "array([[2, 2, 3],\n",
       "       [1, 1, 4],\n",
       "       [4, 4, 2]])"
      ]
     },
     "execution_count": 141,
     "metadata": {},
     "output_type": "execute_result"
    }
   ],
   "source": [
    "matrix       ## we can observe that there is no change in original matrix"
   ]
  },
  {
   "cell_type": "markdown",
   "id": "3265633c-02d3-4915-b242-313d7763a08f",
   "metadata": {},
   "source": [
    "### Q.NO.78"
   ]
  },
  {
   "cell_type": "raw",
   "id": "9cab1b4e-b268-4fd7-87ff-fbd3d1f2b46c",
   "metadata": {},
   "source": [
    "Create a NumPy array ' array_a' of shape (4,3) with sequential integers from 1 to 12. Extract a slice  'view_b' from 'array_a' and broadcasr the additon of 5 to view_b. Check if it alters the original array"
   ]
  },
  {
   "cell_type": "code",
   "execution_count": 142,
   "id": "c9c4fb03-d890-4c2a-b6f8-a69043aef4d3",
   "metadata": {},
   "outputs": [
    {
     "data": {
      "text/plain": [
       "array([[ 1,  2,  3],\n",
       "       [ 4,  5,  6],\n",
       "       [ 7,  8,  9],\n",
       "       [10, 11, 12]])"
      ]
     },
     "execution_count": 142,
     "metadata": {},
     "output_type": "execute_result"
    }
   ],
   "source": [
    "array_a = np.arange(1,13)              ## using arange to get a sequential array_a\n",
    "array_a = array_a.reshape(4,3)         ##reshaping the array_a\n",
    "array_a"
   ]
  },
  {
   "cell_type": "code",
   "execution_count": 143,
   "id": "5c15a670-c83d-4741-bb4f-694fe32a38db",
   "metadata": {},
   "outputs": [
    {
     "data": {
      "text/plain": [
       "array([[1, 2],\n",
       "       [4, 5],\n",
       "       [7, 8]])"
      ]
     },
     "execution_count": 143,
     "metadata": {},
     "output_type": "execute_result"
    }
   ],
   "source": [
    "view_b = array_a[0:3 , 0:2]   ## slicing of array\n",
    "view_b"
   ]
  },
  {
   "cell_type": "code",
   "execution_count": 144,
   "id": "4c00be4e-ac60-4a53-a792-83fd4088a16d",
   "metadata": {},
   "outputs": [
    {
     "data": {
      "text/plain": [
       "array([[ 6,  7],\n",
       "       [ 9, 10],\n",
       "       [12, 13]])"
      ]
     },
     "execution_count": 144,
     "metadata": {},
     "output_type": "execute_result"
    }
   ],
   "source": [
    "view_b + 5     ## broadcasting of addition of 5"
   ]
  },
  {
   "cell_type": "code",
   "execution_count": 145,
   "id": "c1d423b3-3170-475a-b524-641e757d88f7",
   "metadata": {},
   "outputs": [
    {
     "data": {
      "text/plain": [
       "array([[ 1,  2,  3],\n",
       "       [ 4,  5,  6],\n",
       "       [ 7,  8,  9],\n",
       "       [10, 11, 12]])"
      ]
     },
     "execution_count": 145,
     "metadata": {},
     "output_type": "execute_result"
    }
   ],
   "source": [
    "array_a         ## there is no alteration in array_a"
   ]
  },
  {
   "cell_type": "markdown",
   "id": "8ffbc1d1-7d4d-407b-bfb2-c53a0097ec9a",
   "metadata": {},
   "source": [
    "### Q.NO. 79"
   ]
  },
  {
   "cell_type": "raw",
   "id": "f81d51d7-d805-48f3-893d-a63a71ccb39d",
   "metadata": {},
   "source": [
    "Create a NumPy array orig_array of shape(2,4) with values from 1 to 8 . Create a reshaped view of shape(4,2) from orig_array. Modify an element in reshaped_view and check if it reflects changes in the original orig_array"
   ]
  },
  {
   "cell_type": "code",
   "execution_count": 146,
   "id": "2cd59e0a-9371-4ae0-8230-8a4f63255767",
   "metadata": {},
   "outputs": [
    {
     "data": {
      "text/plain": [
       "array([[7, 6, 6, 7],\n",
       "       [3, 2, 5, 1]])"
      ]
     },
     "execution_count": 146,
     "metadata": {},
     "output_type": "execute_result"
    }
   ],
   "source": [
    "orig_array = np.random.randint(1,8,(2,4))\n",
    "orig_array"
   ]
  },
  {
   "cell_type": "code",
   "execution_count": 147,
   "id": "4ff60931-ec1f-4b26-8bf5-c0400083714f",
   "metadata": {},
   "outputs": [
    {
     "data": {
      "text/plain": [
       "array([[7, 6],\n",
       "       [6, 7],\n",
       "       [3, 2],\n",
       "       [5, 1]])"
      ]
     },
     "execution_count": 147,
     "metadata": {},
     "output_type": "execute_result"
    }
   ],
   "source": [
    "reshaped_view = orig_array.reshape(4,2)     ## reshaped the array\n",
    "reshaped_view"
   ]
  },
  {
   "cell_type": "code",
   "execution_count": 148,
   "id": "88e3f6a2-8333-43ba-a0b4-3fdf37543e0d",
   "metadata": {},
   "outputs": [
    {
     "data": {
      "text/plain": [
       "array([[7, 6],\n",
       "       [6, 8],\n",
       "       [3, 2],\n",
       "       [5, 1]])"
      ]
     },
     "execution_count": 148,
     "metadata": {},
     "output_type": "execute_result"
    }
   ],
   "source": [
    "reshaped_view[1][1] = 8      ## modified an element of 2nd row 2nd element\n",
    "reshaped_view   "
   ]
  },
  {
   "cell_type": "code",
   "execution_count": 149,
   "id": "465dedbc-7ce0-4c6a-a207-a821cf05a954",
   "metadata": {},
   "outputs": [
    {
     "data": {
      "text/plain": [
       "array([[7, 6, 6, 8],\n",
       "       [3, 2, 5, 1]])"
      ]
     },
     "execution_count": 149,
     "metadata": {},
     "output_type": "execute_result"
    }
   ],
   "source": [
    "orig_array       ## here we can see that it reflects change in the original array"
   ]
  },
  {
   "cell_type": "markdown",
   "id": "87071c5d-e22d-444a-aed3-9e7b1b1e47ae",
   "metadata": {},
   "source": [
    "### Q.NO. 80"
   ]
  },
  {
   "cell_type": "markdown",
   "id": "2490cea8-e0bf-4d87-8c52-b948a1751fb1",
   "metadata": {},
   "source": [
    "Create a NumPy array 'data' of shape (3,4) with random integers. Extract a copy 'data_copy' of elements greater than 5. Modify an element in 'data_copy' and verify i it affects the original 'data'"
   ]
  },
  {
   "cell_type": "code",
   "execution_count": 150,
   "id": "91613bf4-26fe-4e31-aca4-11440f1c8a50",
   "metadata": {},
   "outputs": [
    {
     "data": {
      "text/plain": [
       "array([[4, 1, 6, 3],\n",
       "       [1, 1, 6, 6],\n",
       "       [7, 5, 1, 2]])"
      ]
     },
     "execution_count": 150,
     "metadata": {},
     "output_type": "execute_result"
    }
   ],
   "source": [
    "data = np.random.randint(1,8,(3,4))\n",
    "data"
   ]
  },
  {
   "cell_type": "code",
   "execution_count": 151,
   "id": "19a1e1a5-b7ad-41b2-b9c8-53b334fbe78a",
   "metadata": {},
   "outputs": [
    {
     "data": {
      "text/plain": [
       "array([6, 6, 6, 7])"
      ]
     },
     "execution_count": 151,
     "metadata": {},
     "output_type": "execute_result"
    }
   ],
   "source": [
    "data_copy = data[data>5]      ## elements greater than 5 in array 'data'\n",
    "data_copy                  "
   ]
  },
  {
   "cell_type": "code",
   "execution_count": 152,
   "id": "41caecb4-e078-4d76-807a-9877164e3aa2",
   "metadata": {},
   "outputs": [
    {
     "data": {
      "text/plain": [
       "array([6, 6, 6, 8])"
      ]
     },
     "execution_count": 152,
     "metadata": {},
     "output_type": "execute_result"
    }
   ],
   "source": [
    "data_copy[3] = 8       ## modifying 4th element as 8\n",
    "data_copy"
   ]
  },
  {
   "cell_type": "code",
   "execution_count": 153,
   "id": "ea2685d0-c981-4df8-a4c3-32b801dcd8a6",
   "metadata": {},
   "outputs": [
    {
     "data": {
      "text/plain": [
       "array([[4, 1, 6, 3],\n",
       "       [1, 1, 6, 6],\n",
       "       [7, 5, 1, 2]])"
      ]
     },
     "execution_count": 153,
     "metadata": {},
     "output_type": "execute_result"
    }
   ],
   "source": [
    "data       ## here we can see that there is no affect on the original array"
   ]
  },
  {
   "cell_type": "markdown",
   "id": "11a8bd9c-fb1e-46c9-9e9d-b3ba24d2fe0c",
   "metadata": {},
   "source": [
    "### Q.NO.81"
   ]
  },
  {
   "cell_type": "raw",
   "id": "473942b8-6665-4e0a-b3bc-cb27caee1c2e",
   "metadata": {},
   "source": [
    "Create two matrices A and B of identical shape containing integers and perform addition and subtraction operations between them."
   ]
  },
  {
   "cell_type": "code",
   "execution_count": 154,
   "id": "2651fb0d-8ac4-4ab2-8f2d-e1c295b89427",
   "metadata": {},
   "outputs": [],
   "source": [
    "mat1 = np.random.randint(1,7,(4,4))\n",
    "mat2 = np.random.randint(1,7,(4,4))"
   ]
  },
  {
   "cell_type": "code",
   "execution_count": 155,
   "id": "b17157ac-77e9-49ce-9e2b-3c098524ca3a",
   "metadata": {},
   "outputs": [
    {
     "data": {
      "text/plain": [
       "array([[2, 3, 2, 3],\n",
       "       [2, 5, 5, 4],\n",
       "       [5, 5, 2, 4],\n",
       "       [6, 5, 4, 4]])"
      ]
     },
     "execution_count": 155,
     "metadata": {},
     "output_type": "execute_result"
    }
   ],
   "source": [
    "mat1"
   ]
  },
  {
   "cell_type": "code",
   "execution_count": 156,
   "id": "4bb39d0a-c873-4ceb-baf2-d4e299636771",
   "metadata": {},
   "outputs": [
    {
     "data": {
      "text/plain": [
       "array([[2, 2, 2, 2],\n",
       "       [6, 3, 3, 2],\n",
       "       [4, 6, 3, 4],\n",
       "       [2, 2, 4, 1]])"
      ]
     },
     "execution_count": 156,
     "metadata": {},
     "output_type": "execute_result"
    }
   ],
   "source": [
    "mat2"
   ]
  },
  {
   "cell_type": "code",
   "execution_count": 157,
   "id": "d647d7b7-8339-4610-add6-b72bb0c1b345",
   "metadata": {},
   "outputs": [
    {
     "data": {
      "text/plain": [
       "array([[ 4,  5,  4,  5],\n",
       "       [ 8,  8,  8,  6],\n",
       "       [ 9, 11,  5,  8],\n",
       "       [ 8,  7,  8,  5]])"
      ]
     },
     "execution_count": 157,
     "metadata": {},
     "output_type": "execute_result"
    }
   ],
   "source": [
    "mat1 + mat2      ## addition og 2 matrices"
   ]
  },
  {
   "cell_type": "code",
   "execution_count": 158,
   "id": "e8fc7c6c-cc24-4169-8309-c292a762d4bb",
   "metadata": {},
   "outputs": [
    {
     "data": {
      "text/plain": [
       "array([[ 0,  1,  0,  1],\n",
       "       [-4,  2,  2,  2],\n",
       "       [ 1, -1, -1,  0],\n",
       "       [ 4,  3,  0,  3]])"
      ]
     },
     "execution_count": 158,
     "metadata": {},
     "output_type": "execute_result"
    }
   ],
   "source": [
    "mat1 - mat2         ## subtraction of 2 matrices"
   ]
  },
  {
   "cell_type": "markdown",
   "id": "d45f44ff-c065-498a-95c7-986e8b2f4033",
   "metadata": {},
   "source": [
    "### Q.NO.82"
   ]
  },
  {
   "cell_type": "raw",
   "id": "0fc63221-563c-4437-93b5-5430e69fc1c4",
   "metadata": {},
   "source": [
    "Generate two matrices •c•(3x2) and •o•(2x4) and perform matrix multiplication"
   ]
  },
  {
   "cell_type": "code",
   "execution_count": 159,
   "id": "eada4363-bcc7-458f-9352-01d834550e9a",
   "metadata": {},
   "outputs": [],
   "source": [
    "C = np.random.randint(1,6,(3,2))\n",
    "D = np.random.randint(1,6,(2,4))"
   ]
  },
  {
   "cell_type": "code",
   "execution_count": 160,
   "id": "76f530bf-e2b4-4818-ab55-077b6ca49372",
   "metadata": {},
   "outputs": [
    {
     "data": {
      "text/plain": [
       "array([[5, 5],\n",
       "       [3, 1],\n",
       "       [3, 2]])"
      ]
     },
     "execution_count": 160,
     "metadata": {},
     "output_type": "execute_result"
    }
   ],
   "source": [
    "C       ## matrix of 3X2"
   ]
  },
  {
   "cell_type": "code",
   "execution_count": 161,
   "id": "8fddda25-acc7-4447-a823-6c7bdc78550b",
   "metadata": {},
   "outputs": [
    {
     "data": {
      "text/plain": [
       "array([[4, 1, 1, 1],\n",
       "       [2, 5, 4, 2]])"
      ]
     },
     "execution_count": 161,
     "metadata": {},
     "output_type": "execute_result"
    }
   ],
   "source": [
    "D      ## matrix of 2X4"
   ]
  },
  {
   "cell_type": "code",
   "execution_count": 162,
   "id": "b0d150c7-4b0a-455c-96c1-3d8a26b9b6b9",
   "metadata": {},
   "outputs": [
    {
     "data": {
      "text/plain": [
       "array([[30, 30, 25, 15],\n",
       "       [14,  8,  7,  5],\n",
       "       [16, 13, 11,  7]])"
      ]
     },
     "execution_count": 162,
     "metadata": {},
     "output_type": "execute_result"
    }
   ],
   "source": [
    "C@D         ## matrix multiplication"
   ]
  },
  {
   "cell_type": "markdown",
   "id": "7d66fecd-b383-4b3a-9a56-e901c1a7e228",
   "metadata": {},
   "source": [
    "### Q.NO. 83"
   ]
  },
  {
   "cell_type": "raw",
   "id": "c8056c24-0cd5-4542-8e8c-7c9d65a331c0",
   "metadata": {},
   "source": [
    "Create a matrix 'E' and find its transpose"
   ]
  },
  {
   "cell_type": "code",
   "execution_count": 163,
   "id": "39018a75-91ad-4518-af4e-ad0a77a855fc",
   "metadata": {},
   "outputs": [
    {
     "data": {
      "text/plain": [
       "array([[2, 3, 3, 2, 4],\n",
       "       [1, 2, 1, 2, 2],\n",
       "       [2, 2, 3, 4, 2],\n",
       "       [1, 3, 1, 1, 3]])"
      ]
     },
     "execution_count": 163,
     "metadata": {},
     "output_type": "execute_result"
    }
   ],
   "source": [
    "E = np.random.randint(1,5,(4,5))\n",
    "E"
   ]
  },
  {
   "cell_type": "code",
   "execution_count": 164,
   "id": "92927f7d-a94f-4189-897e-df380853eb1e",
   "metadata": {},
   "outputs": [
    {
     "data": {
      "text/plain": [
       "array([[2, 1, 2, 1],\n",
       "       [3, 2, 2, 3],\n",
       "       [3, 1, 3, 1],\n",
       "       [2, 2, 4, 1],\n",
       "       [4, 2, 2, 3]])"
      ]
     },
     "execution_count": 164,
     "metadata": {},
     "output_type": "execute_result"
    }
   ],
   "source": [
    "E.T  ## transpose of matrix E"
   ]
  },
  {
   "cell_type": "markdown",
   "id": "13967cc6-f659-4096-8ad1-529ef1bd7d2f",
   "metadata": {},
   "source": [
    "### Q.NO. 84"
   ]
  },
  {
   "cell_type": "raw",
   "id": "f4d08ac0-9775-4150-8ae1-456d1931fbab",
   "metadata": {},
   "source": [
    "Generate a square matrix 'F' and compute its determinant"
   ]
  },
  {
   "cell_type": "code",
   "execution_count": 165,
   "id": "6a1f9729-11bf-45d4-89aa-66fd0e66b5d2",
   "metadata": {},
   "outputs": [
    {
     "data": {
      "text/plain": [
       "array([[2, 4, 3, 3],\n",
       "       [3, 1, 1, 3],\n",
       "       [3, 2, 3, 3],\n",
       "       [1, 1, 1, 1]])"
      ]
     },
     "execution_count": 165,
     "metadata": {},
     "output_type": "execute_result"
    }
   ],
   "source": [
    "F = np.random.randint(1,5 ,(4,4))\n",
    "F"
   ]
  },
  {
   "cell_type": "code",
   "execution_count": 166,
   "id": "15efd842-76dc-4e56-80e7-5f529f322410",
   "metadata": {},
   "outputs": [
    {
     "data": {
      "text/plain": [
       "1.999999999999999"
      ]
     },
     "execution_count": 166,
     "metadata": {},
     "output_type": "execute_result"
    }
   ],
   "source": [
    "np.linalg.det(F)         ## determinant of matrix F"
   ]
  },
  {
   "cell_type": "markdown",
   "id": "0016d065-80df-4422-9674-3bb2b9dfe9be",
   "metadata": {},
   "source": [
    "### Q.NO.85"
   ]
  },
  {
   "cell_type": "raw",
   "id": "de54f44a-ff86-47e6-bab4-a9359904644d",
   "metadata": {},
   "source": [
    "Create a square matrix 'G'and find its inverse."
   ]
  },
  {
   "cell_type": "code",
   "execution_count": 167,
   "id": "a52a2a80-f2fe-4acf-8251-eb60577c86e8",
   "metadata": {},
   "outputs": [],
   "source": [
    "G = np.random.randint(1,10,(3,3))"
   ]
  },
  {
   "cell_type": "code",
   "execution_count": 168,
   "id": "f26c07f1-085d-47b3-86a1-923730d45100",
   "metadata": {},
   "outputs": [
    {
     "data": {
      "text/plain": [
       "array([[2, 3, 8],\n",
       "       [9, 5, 8],\n",
       "       [2, 6, 8]])"
      ]
     },
     "execution_count": 168,
     "metadata": {},
     "output_type": "execute_result"
    }
   ],
   "source": [
    "G"
   ]
  },
  {
   "cell_type": "code",
   "execution_count": 169,
   "id": "dade8f9f-6137-4eaa-9dd8-eed616270bb0",
   "metadata": {},
   "outputs": [
    {
     "data": {
      "text/plain": [
       "array([[-4.76190476e-02,  1.42857143e-01, -9.52380952e-02],\n",
       "       [-3.33333333e-01,  1.13545537e-17,  3.33333333e-01],\n",
       "       [ 2.61904762e-01, -3.57142857e-02, -1.01190476e-01]])"
      ]
     },
     "execution_count": 169,
     "metadata": {},
     "output_type": "execute_result"
    }
   ],
   "source": [
    "np.linalg.inv(G)         ## inverse of matrix G"
   ]
  },
  {
   "cell_type": "code",
   "execution_count": null,
   "id": "53b873ad-5635-469e-a30f-731cc9609847",
   "metadata": {},
   "outputs": [],
   "source": []
  }
 ],
 "metadata": {
  "kernelspec": {
   "display_name": "Python 3 (ipykernel)",
   "language": "python",
   "name": "python3"
  },
  "language_info": {
   "codemirror_mode": {
    "name": "ipython",
    "version": 3
   },
   "file_extension": ".py",
   "mimetype": "text/x-python",
   "name": "python",
   "nbconvert_exporter": "python",
   "pygments_lexer": "ipython3",
   "version": "3.10.8"
  }
 },
 "nbformat": 4,
 "nbformat_minor": 5
}
